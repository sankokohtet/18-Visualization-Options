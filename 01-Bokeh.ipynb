{
 "cells": [
  {
   "cell_type": "markdown",
   "metadata": {},
   "source": [
    "# Extending Matplotlib\n",
    "![](images/bokeh.png)\n",
    "\n",
    "\n",
    "There are a number of newer libraries that have attempted to extend Python's plotting capabilities.  We will look at `bokeh`, which I think is an easy to use interface that is something similar to d3.js, but in my opinion much less verbose."
   ]
  },
  {
   "cell_type": "code",
   "execution_count": 1,
   "metadata": {},
   "outputs": [],
   "source": [
    "%%bash\n",
    "#pip install bokeh\n",
    "#pip install packaging\n",
    "#pip install pyyaml\n",
    "#pip install yaml\n",
    "#pip install pycosat"
   ]
  },
  {
   "cell_type": "code",
   "execution_count": 2,
   "metadata": {},
   "outputs": [],
   "source": [
    "from bokeh.plotting import figure\n",
    "from bokeh.io import output_notebook, show\n",
    "import pandas as pd"
   ]
  },
  {
   "cell_type": "code",
   "execution_count": 3,
   "metadata": {},
   "outputs": [
    {
     "data": {
      "text/html": [
       "\n",
       "    <div class=\"bk-root\">\n",
       "        <a href=\"https://bokeh.pydata.org\" target=\"_blank\" class=\"bk-logo bk-logo-small bk-logo-notebook\"></a>\n",
       "        <span id=\"cfb468bd-6f11-4923-9476-fd881075bc08\">Loading BokehJS ...</span>\n",
       "    </div>"
      ]
     },
     "metadata": {},
     "output_type": "display_data"
    },
    {
     "data": {
      "application/javascript": [
       "\n",
       "(function(root) {\n",
       "  function now() {\n",
       "    return new Date();\n",
       "  }\n",
       "\n",
       "  var force = true;\n",
       "\n",
       "  if (typeof (root._bokeh_onload_callbacks) === \"undefined\" || force === true) {\n",
       "    root._bokeh_onload_callbacks = [];\n",
       "    root._bokeh_is_loading = undefined;\n",
       "  }\n",
       "\n",
       "  var JS_MIME_TYPE = 'application/javascript';\n",
       "  var HTML_MIME_TYPE = 'text/html';\n",
       "  var EXEC_MIME_TYPE = 'application/vnd.bokehjs_exec.v0+json';\n",
       "  var CLASS_NAME = 'output_bokeh rendered_html';\n",
       "\n",
       "  /**\n",
       "   * Render data to the DOM node\n",
       "   */\n",
       "  function render(props, node) {\n",
       "    var script = document.createElement(\"script\");\n",
       "    node.appendChild(script);\n",
       "  }\n",
       "\n",
       "  /**\n",
       "   * Handle when an output is cleared or removed\n",
       "   */\n",
       "  function handleClearOutput(event, handle) {\n",
       "    var cell = handle.cell;\n",
       "\n",
       "    var id = cell.output_area._bokeh_element_id;\n",
       "    var server_id = cell.output_area._bokeh_server_id;\n",
       "    // Clean up Bokeh references\n",
       "    if (id !== undefined) {\n",
       "      Bokeh.index[id].model.document.clear();\n",
       "      delete Bokeh.index[id];\n",
       "    }\n",
       "\n",
       "    if (server_id !== undefined) {\n",
       "      // Clean up Bokeh references\n",
       "      var cmd = \"from bokeh.io.state import curstate; print(curstate().uuid_to_server['\" + server_id + \"'].get_sessions()[0].document.roots[0]._id)\";\n",
       "      cell.notebook.kernel.execute(cmd, {\n",
       "        iopub: {\n",
       "          output: function(msg) {\n",
       "            var element_id = msg.content.text.trim();\n",
       "            Bokeh.index[element_id].model.document.clear();\n",
       "            delete Bokeh.index[element_id];\n",
       "          }\n",
       "        }\n",
       "      });\n",
       "      // Destroy server and session\n",
       "      var cmd = \"import bokeh.io.notebook as ion; ion.destroy_server('\" + server_id + \"')\";\n",
       "      cell.notebook.kernel.execute(cmd);\n",
       "    }\n",
       "  }\n",
       "\n",
       "  /**\n",
       "   * Handle when a new output is added\n",
       "   */\n",
       "  function handleAddOutput(event, handle) {\n",
       "    var output_area = handle.output_area;\n",
       "    var output = handle.output;\n",
       "\n",
       "    // limit handleAddOutput to display_data with EXEC_MIME_TYPE content only\n",
       "    if ((output.output_type != \"display_data\") || (!output.data.hasOwnProperty(EXEC_MIME_TYPE))) {\n",
       "      return\n",
       "    }\n",
       "\n",
       "    var toinsert = output_area.element.find(\".\" + CLASS_NAME.split(' ')[0]);\n",
       "\n",
       "    if (output.metadata[EXEC_MIME_TYPE][\"id\"] !== undefined) {\n",
       "      toinsert[0].firstChild.textContent = output.data[JS_MIME_TYPE];\n",
       "      // store reference to embed id on output_area\n",
       "      output_area._bokeh_element_id = output.metadata[EXEC_MIME_TYPE][\"id\"];\n",
       "    }\n",
       "    if (output.metadata[EXEC_MIME_TYPE][\"server_id\"] !== undefined) {\n",
       "      var bk_div = document.createElement(\"div\");\n",
       "      bk_div.innerHTML = output.data[HTML_MIME_TYPE];\n",
       "      var script_attrs = bk_div.children[0].attributes;\n",
       "      for (var i = 0; i < script_attrs.length; i++) {\n",
       "        toinsert[0].firstChild.setAttribute(script_attrs[i].name, script_attrs[i].value);\n",
       "      }\n",
       "      // store reference to server id on output_area\n",
       "      output_area._bokeh_server_id = output.metadata[EXEC_MIME_TYPE][\"server_id\"];\n",
       "    }\n",
       "  }\n",
       "\n",
       "  function register_renderer(events, OutputArea) {\n",
       "\n",
       "    function append_mime(data, metadata, element) {\n",
       "      // create a DOM node to render to\n",
       "      var toinsert = this.create_output_subarea(\n",
       "        metadata,\n",
       "        CLASS_NAME,\n",
       "        EXEC_MIME_TYPE\n",
       "      );\n",
       "      this.keyboard_manager.register_events(toinsert);\n",
       "      // Render to node\n",
       "      var props = {data: data, metadata: metadata[EXEC_MIME_TYPE]};\n",
       "      render(props, toinsert[0]);\n",
       "      element.append(toinsert);\n",
       "      return toinsert\n",
       "    }\n",
       "\n",
       "    /* Handle when an output is cleared or removed */\n",
       "    events.on('clear_output.CodeCell', handleClearOutput);\n",
       "    events.on('delete.Cell', handleClearOutput);\n",
       "\n",
       "    /* Handle when a new output is added */\n",
       "    events.on('output_added.OutputArea', handleAddOutput);\n",
       "\n",
       "    /**\n",
       "     * Register the mime type and append_mime function with output_area\n",
       "     */\n",
       "    OutputArea.prototype.register_mime_type(EXEC_MIME_TYPE, append_mime, {\n",
       "      /* Is output safe? */\n",
       "      safe: true,\n",
       "      /* Index of renderer in `output_area.display_order` */\n",
       "      index: 0\n",
       "    });\n",
       "  }\n",
       "\n",
       "  // register the mime type if in Jupyter Notebook environment and previously unregistered\n",
       "  if (root.Jupyter !== undefined) {\n",
       "    var events = require('base/js/events');\n",
       "    var OutputArea = require('notebook/js/outputarea').OutputArea;\n",
       "\n",
       "    if (OutputArea.prototype.mime_types().indexOf(EXEC_MIME_TYPE) == -1) {\n",
       "      register_renderer(events, OutputArea);\n",
       "    }\n",
       "  }\n",
       "\n",
       "  \n",
       "  if (typeof (root._bokeh_timeout) === \"undefined\" || force === true) {\n",
       "    root._bokeh_timeout = Date.now() + 5000;\n",
       "    root._bokeh_failed_load = false;\n",
       "  }\n",
       "\n",
       "  var NB_LOAD_WARNING = {'data': {'text/html':\n",
       "     \"<div style='background-color: #fdd'>\\n\"+\n",
       "     \"<p>\\n\"+\n",
       "     \"BokehJS does not appear to have successfully loaded. If loading BokehJS from CDN, this \\n\"+\n",
       "     \"may be due to a slow or bad network connection. Possible fixes:\\n\"+\n",
       "     \"</p>\\n\"+\n",
       "     \"<ul>\\n\"+\n",
       "     \"<li>re-rerun `output_notebook()` to attempt to load from CDN again, or</li>\\n\"+\n",
       "     \"<li>use INLINE resources instead, as so:</li>\\n\"+\n",
       "     \"</ul>\\n\"+\n",
       "     \"<code>\\n\"+\n",
       "     \"from bokeh.resources import INLINE\\n\"+\n",
       "     \"output_notebook(resources=INLINE)\\n\"+\n",
       "     \"</code>\\n\"+\n",
       "     \"</div>\"}};\n",
       "\n",
       "  function display_loaded() {\n",
       "    var el = document.getElementById(\"cfb468bd-6f11-4923-9476-fd881075bc08\");\n",
       "    if (el != null) {\n",
       "      el.textContent = \"BokehJS is loading...\";\n",
       "    }\n",
       "    if (root.Bokeh !== undefined) {\n",
       "      if (el != null) {\n",
       "        el.textContent = \"BokehJS \" + root.Bokeh.version + \" successfully loaded.\";\n",
       "      }\n",
       "    } else if (Date.now() < root._bokeh_timeout) {\n",
       "      setTimeout(display_loaded, 100)\n",
       "    }\n",
       "  }\n",
       "\n",
       "\n",
       "  function run_callbacks() {\n",
       "    try {\n",
       "      root._bokeh_onload_callbacks.forEach(function(callback) { callback() });\n",
       "    }\n",
       "    finally {\n",
       "      delete root._bokeh_onload_callbacks\n",
       "    }\n",
       "    console.info(\"Bokeh: all callbacks have finished\");\n",
       "  }\n",
       "\n",
       "  function load_libs(js_urls, callback) {\n",
       "    root._bokeh_onload_callbacks.push(callback);\n",
       "    if (root._bokeh_is_loading > 0) {\n",
       "      console.log(\"Bokeh: BokehJS is being loaded, scheduling callback at\", now());\n",
       "      return null;\n",
       "    }\n",
       "    if (js_urls == null || js_urls.length === 0) {\n",
       "      run_callbacks();\n",
       "      return null;\n",
       "    }\n",
       "    console.log(\"Bokeh: BokehJS not loaded, scheduling load and callback at\", now());\n",
       "    root._bokeh_is_loading = js_urls.length;\n",
       "    for (var i = 0; i < js_urls.length; i++) {\n",
       "      var url = js_urls[i];\n",
       "      var s = document.createElement('script');\n",
       "      s.src = url;\n",
       "      s.async = false;\n",
       "      s.onreadystatechange = s.onload = function() {\n",
       "        root._bokeh_is_loading--;\n",
       "        if (root._bokeh_is_loading === 0) {\n",
       "          console.log(\"Bokeh: all BokehJS libraries loaded\");\n",
       "          run_callbacks()\n",
       "        }\n",
       "      };\n",
       "      s.onerror = function() {\n",
       "        console.warn(\"failed to load library \" + url);\n",
       "      };\n",
       "      console.log(\"Bokeh: injecting script tag for BokehJS library: \", url);\n",
       "      document.getElementsByTagName(\"head\")[0].appendChild(s);\n",
       "    }\n",
       "  };var element = document.getElementById(\"cfb468bd-6f11-4923-9476-fd881075bc08\");\n",
       "  if (element == null) {\n",
       "    console.log(\"Bokeh: ERROR: autoload.js configured with elementid 'cfb468bd-6f11-4923-9476-fd881075bc08' but no matching script tag was found. \")\n",
       "    return false;\n",
       "  }\n",
       "\n",
       "  var js_urls = [\"https://cdn.pydata.org/bokeh/release/bokeh-0.12.13.min.js\", \"https://cdn.pydata.org/bokeh/release/bokeh-widgets-0.12.13.min.js\", \"https://cdn.pydata.org/bokeh/release/bokeh-tables-0.12.13.min.js\", \"https://cdn.pydata.org/bokeh/release/bokeh-gl-0.12.13.min.js\"];\n",
       "\n",
       "  var inline_js = [\n",
       "    function(Bokeh) {\n",
       "      Bokeh.set_log_level(\"info\");\n",
       "    },\n",
       "    \n",
       "    function(Bokeh) {\n",
       "      \n",
       "    },\n",
       "    function(Bokeh) {\n",
       "      console.log(\"Bokeh: injecting CSS: https://cdn.pydata.org/bokeh/release/bokeh-0.12.13.min.css\");\n",
       "      Bokeh.embed.inject_css(\"https://cdn.pydata.org/bokeh/release/bokeh-0.12.13.min.css\");\n",
       "      console.log(\"Bokeh: injecting CSS: https://cdn.pydata.org/bokeh/release/bokeh-widgets-0.12.13.min.css\");\n",
       "      Bokeh.embed.inject_css(\"https://cdn.pydata.org/bokeh/release/bokeh-widgets-0.12.13.min.css\");\n",
       "      console.log(\"Bokeh: injecting CSS: https://cdn.pydata.org/bokeh/release/bokeh-tables-0.12.13.min.css\");\n",
       "      Bokeh.embed.inject_css(\"https://cdn.pydata.org/bokeh/release/bokeh-tables-0.12.13.min.css\");\n",
       "    }\n",
       "  ];\n",
       "\n",
       "  function run_inline_js() {\n",
       "    \n",
       "    if ((root.Bokeh !== undefined) || (force === true)) {\n",
       "      for (var i = 0; i < inline_js.length; i++) {\n",
       "        inline_js[i].call(root, root.Bokeh);\n",
       "      }if (force === true) {\n",
       "        display_loaded();\n",
       "      }} else if (Date.now() < root._bokeh_timeout) {\n",
       "      setTimeout(run_inline_js, 100);\n",
       "    } else if (!root._bokeh_failed_load) {\n",
       "      console.log(\"Bokeh: BokehJS failed to load within specified timeout.\");\n",
       "      root._bokeh_failed_load = true;\n",
       "    } else if (force !== true) {\n",
       "      var cell = $(document.getElementById(\"cfb468bd-6f11-4923-9476-fd881075bc08\")).parents('.cell').data().cell;\n",
       "      cell.output_area.append_execute_result(NB_LOAD_WARNING)\n",
       "    }\n",
       "\n",
       "  }\n",
       "\n",
       "  if (root._bokeh_is_loading === 0) {\n",
       "    console.log(\"Bokeh: BokehJS loaded, going straight to plotting\");\n",
       "    run_inline_js();\n",
       "  } else {\n",
       "    load_libs(js_urls, function() {\n",
       "      console.log(\"Bokeh: BokehJS plotting callback run at\", now());\n",
       "      run_inline_js();\n",
       "    });\n",
       "  }\n",
       "}(window));"
      ],
      "application/vnd.bokehjs_load.v0+json": "\n(function(root) {\n  function now() {\n    return new Date();\n  }\n\n  var force = true;\n\n  if (typeof (root._bokeh_onload_callbacks) === \"undefined\" || force === true) {\n    root._bokeh_onload_callbacks = [];\n    root._bokeh_is_loading = undefined;\n  }\n\n  \n\n  \n  if (typeof (root._bokeh_timeout) === \"undefined\" || force === true) {\n    root._bokeh_timeout = Date.now() + 5000;\n    root._bokeh_failed_load = false;\n  }\n\n  var NB_LOAD_WARNING = {'data': {'text/html':\n     \"<div style='background-color: #fdd'>\\n\"+\n     \"<p>\\n\"+\n     \"BokehJS does not appear to have successfully loaded. If loading BokehJS from CDN, this \\n\"+\n     \"may be due to a slow or bad network connection. Possible fixes:\\n\"+\n     \"</p>\\n\"+\n     \"<ul>\\n\"+\n     \"<li>re-rerun `output_notebook()` to attempt to load from CDN again, or</li>\\n\"+\n     \"<li>use INLINE resources instead, as so:</li>\\n\"+\n     \"</ul>\\n\"+\n     \"<code>\\n\"+\n     \"from bokeh.resources import INLINE\\n\"+\n     \"output_notebook(resources=INLINE)\\n\"+\n     \"</code>\\n\"+\n     \"</div>\"}};\n\n  function display_loaded() {\n    var el = document.getElementById(\"cfb468bd-6f11-4923-9476-fd881075bc08\");\n    if (el != null) {\n      el.textContent = \"BokehJS is loading...\";\n    }\n    if (root.Bokeh !== undefined) {\n      if (el != null) {\n        el.textContent = \"BokehJS \" + root.Bokeh.version + \" successfully loaded.\";\n      }\n    } else if (Date.now() < root._bokeh_timeout) {\n      setTimeout(display_loaded, 100)\n    }\n  }\n\n\n  function run_callbacks() {\n    try {\n      root._bokeh_onload_callbacks.forEach(function(callback) { callback() });\n    }\n    finally {\n      delete root._bokeh_onload_callbacks\n    }\n    console.info(\"Bokeh: all callbacks have finished\");\n  }\n\n  function load_libs(js_urls, callback) {\n    root._bokeh_onload_callbacks.push(callback);\n    if (root._bokeh_is_loading > 0) {\n      console.log(\"Bokeh: BokehJS is being loaded, scheduling callback at\", now());\n      return null;\n    }\n    if (js_urls == null || js_urls.length === 0) {\n      run_callbacks();\n      return null;\n    }\n    console.log(\"Bokeh: BokehJS not loaded, scheduling load and callback at\", now());\n    root._bokeh_is_loading = js_urls.length;\n    for (var i = 0; i < js_urls.length; i++) {\n      var url = js_urls[i];\n      var s = document.createElement('script');\n      s.src = url;\n      s.async = false;\n      s.onreadystatechange = s.onload = function() {\n        root._bokeh_is_loading--;\n        if (root._bokeh_is_loading === 0) {\n          console.log(\"Bokeh: all BokehJS libraries loaded\");\n          run_callbacks()\n        }\n      };\n      s.onerror = function() {\n        console.warn(\"failed to load library \" + url);\n      };\n      console.log(\"Bokeh: injecting script tag for BokehJS library: \", url);\n      document.getElementsByTagName(\"head\")[0].appendChild(s);\n    }\n  };var element = document.getElementById(\"cfb468bd-6f11-4923-9476-fd881075bc08\");\n  if (element == null) {\n    console.log(\"Bokeh: ERROR: autoload.js configured with elementid 'cfb468bd-6f11-4923-9476-fd881075bc08' but no matching script tag was found. \")\n    return false;\n  }\n\n  var js_urls = [\"https://cdn.pydata.org/bokeh/release/bokeh-0.12.13.min.js\", \"https://cdn.pydata.org/bokeh/release/bokeh-widgets-0.12.13.min.js\", \"https://cdn.pydata.org/bokeh/release/bokeh-tables-0.12.13.min.js\", \"https://cdn.pydata.org/bokeh/release/bokeh-gl-0.12.13.min.js\"];\n\n  var inline_js = [\n    function(Bokeh) {\n      Bokeh.set_log_level(\"info\");\n    },\n    \n    function(Bokeh) {\n      \n    },\n    function(Bokeh) {\n      console.log(\"Bokeh: injecting CSS: https://cdn.pydata.org/bokeh/release/bokeh-0.12.13.min.css\");\n      Bokeh.embed.inject_css(\"https://cdn.pydata.org/bokeh/release/bokeh-0.12.13.min.css\");\n      console.log(\"Bokeh: injecting CSS: https://cdn.pydata.org/bokeh/release/bokeh-widgets-0.12.13.min.css\");\n      Bokeh.embed.inject_css(\"https://cdn.pydata.org/bokeh/release/bokeh-widgets-0.12.13.min.css\");\n      console.log(\"Bokeh: injecting CSS: https://cdn.pydata.org/bokeh/release/bokeh-tables-0.12.13.min.css\");\n      Bokeh.embed.inject_css(\"https://cdn.pydata.org/bokeh/release/bokeh-tables-0.12.13.min.css\");\n    }\n  ];\n\n  function run_inline_js() {\n    \n    if ((root.Bokeh !== undefined) || (force === true)) {\n      for (var i = 0; i < inline_js.length; i++) {\n        inline_js[i].call(root, root.Bokeh);\n      }if (force === true) {\n        display_loaded();\n      }} else if (Date.now() < root._bokeh_timeout) {\n      setTimeout(run_inline_js, 100);\n    } else if (!root._bokeh_failed_load) {\n      console.log(\"Bokeh: BokehJS failed to load within specified timeout.\");\n      root._bokeh_failed_load = true;\n    } else if (force !== true) {\n      var cell = $(document.getElementById(\"cfb468bd-6f11-4923-9476-fd881075bc08\")).parents('.cell').data().cell;\n      cell.output_area.append_execute_result(NB_LOAD_WARNING)\n    }\n\n  }\n\n  if (root._bokeh_is_loading === 0) {\n    console.log(\"Bokeh: BokehJS loaded, going straight to plotting\");\n    run_inline_js();\n  } else {\n    load_libs(js_urls, function() {\n      console.log(\"Bokeh: BokehJS plotting callback run at\", now());\n      run_inline_js();\n    });\n  }\n}(window));"
     },
     "metadata": {},
     "output_type": "display_data"
    }
   ],
   "source": [
    "output_notebook()"
   ]
  },
  {
   "cell_type": "code",
   "execution_count": 4,
   "metadata": {},
   "outputs": [],
   "source": [
    "import numpy as np"
   ]
  },
  {
   "cell_type": "code",
   "execution_count": 5,
   "metadata": {},
   "outputs": [],
   "source": [
    "x = np.linspace(-3,3,100)\n",
    "y = np.cos(x)"
   ]
  },
  {
   "cell_type": "code",
   "execution_count": 6,
   "metadata": {},
   "outputs": [
    {
     "data": {
      "text/html": [
       "\n",
       "<div class=\"bk-root\">\n",
       "    <div class=\"bk-plotdiv\" id=\"e6ea5cfa-e879-465a-b637-cf10a8ebd173\"></div>\n",
       "</div>"
      ]
     },
     "metadata": {},
     "output_type": "display_data"
    },
    {
     "data": {
      "application/javascript": [
       "(function(root) {\n",
       "  function embed_document(root) {\n",
       "    \n",
       "  var docs_json = {\"076d42f6-3fcf-4928-a59f-b9e3b1c5d1e1\":{\"roots\":{\"references\":[{\"attributes\":{\"dimension\":1,\"plot\":{\"id\":\"01ef422f-d88b-4b53-b24e-be6428658a6c\",\"subtype\":\"Figure\",\"type\":\"Plot\"},\"ticker\":{\"id\":\"3bc47d36-5477-4323-97b7-4ae1d0c0e2ee\",\"type\":\"BasicTicker\"}},\"id\":\"8ddec90b-033e-44aa-9955-eb21776a3fea\",\"type\":\"Grid\"},{\"attributes\":{\"bottom_units\":\"screen\",\"fill_alpha\":{\"value\":0.5},\"fill_color\":{\"value\":\"lightgrey\"},\"left_units\":\"screen\",\"level\":\"overlay\",\"line_alpha\":{\"value\":1.0},\"line_color\":{\"value\":\"black\"},\"line_dash\":[4,4],\"line_width\":{\"value\":2},\"plot\":null,\"render_mode\":\"css\",\"right_units\":\"screen\",\"top_units\":\"screen\"},\"id\":\"7c862fc1-5583-470e-8ca5-c0b07212c23f\",\"type\":\"BoxAnnotation\"},{\"attributes\":{},\"id\":\"2ec29cf4-d943-4907-b777-939a8ed95647\",\"type\":\"BasicTickFormatter\"},{\"attributes\":{\"below\":[{\"id\":\"10674ddf-f300-416e-9fd0-86df4e1f3e05\",\"type\":\"LinearAxis\"}],\"left\":[{\"id\":\"64b9cbdf-e45c-4aba-b046-a3918ff7a468\",\"type\":\"LinearAxis\"}],\"plot_height\":500,\"plot_width\":500,\"renderers\":[{\"id\":\"10674ddf-f300-416e-9fd0-86df4e1f3e05\",\"type\":\"LinearAxis\"},{\"id\":\"ec1af82c-a9ef-4bb8-acbb-7500945208a2\",\"type\":\"Grid\"},{\"id\":\"64b9cbdf-e45c-4aba-b046-a3918ff7a468\",\"type\":\"LinearAxis\"},{\"id\":\"8ddec90b-033e-44aa-9955-eb21776a3fea\",\"type\":\"Grid\"},{\"id\":\"7c862fc1-5583-470e-8ca5-c0b07212c23f\",\"type\":\"BoxAnnotation\"},{\"id\":\"8cbfc5d3-6cec-4bd6-b1f9-ebd12d8d0457\",\"type\":\"GlyphRenderer\"}],\"title\":{\"id\":\"e2a94a77-0a87-4d0d-8e52-6601cfac6a18\",\"type\":\"Title\"},\"toolbar\":{\"id\":\"58387454-6769-4571-9891-2f26044dfb89\",\"type\":\"Toolbar\"},\"x_range\":{\"id\":\"fe4d2f3d-b9c0-42b4-aecd-6690ae5cc9ff\",\"type\":\"DataRange1d\"},\"x_scale\":{\"id\":\"d7877ad2-0ef4-4004-8faf-a236731372f2\",\"type\":\"LinearScale\"},\"y_range\":{\"id\":\"5927e02c-8cd0-45eb-b0b7-9463043b6387\",\"type\":\"DataRange1d\"},\"y_scale\":{\"id\":\"ff7e2274-78a9-4657-be29-5d83381f8b27\",\"type\":\"LinearScale\"}},\"id\":\"01ef422f-d88b-4b53-b24e-be6428658a6c\",\"subtype\":\"Figure\",\"type\":\"Plot\"},{\"attributes\":{\"data_source\":{\"id\":\"fe8e1023-4ced-42d7-90b5-975aaaa9ba07\",\"type\":\"ColumnDataSource\"},\"glyph\":{\"id\":\"f7bde3e7-34e4-4705-9129-65dd0c773a28\",\"type\":\"Circle\"},\"hover_glyph\":null,\"muted_glyph\":null,\"nonselection_glyph\":{\"id\":\"9dfd4ff4-4ec7-40c0-a104-908445e1f673\",\"type\":\"Circle\"},\"selection_glyph\":null,\"view\":{\"id\":\"c242f869-6979-4260-9f2b-9d13c69f2587\",\"type\":\"CDSView\"}},\"id\":\"8cbfc5d3-6cec-4bd6-b1f9-ebd12d8d0457\",\"type\":\"GlyphRenderer\"},{\"attributes\":{\"callback\":null,\"column_names\":[\"x\",\"y\"],\"data\":{\"x\":{\"__ndarray__\":\"AAAAAAAACMCEDz744IMHwAgffPDBBwfAjC666KKLBsAQPvjggw8GwJNNNtlkkwXAF1100UUXBcCbbLLJJpsEwB988MEHHwTAo4suuuiiA8Anm2yyySYDwKqqqqqqqgLALrrooosuAsCyySabbLIBwDbZZJNNNgHAuuiiiy66AMA++OCDDz4AwIQPPvjgg/+/jC666KKL/r+TTTbZZJP9v5tssskmm/y/o4suuuii+7+qqqqqqqr6v7LJJptssvm/uuiiiy66+L/CBx988MH3v8omm2yyyfa/0UUXXXTR9b/ZZJNNNtn0v+GDDz744PO/6KKLLrro8r/wwQcffPDxv/jggw8++PC/AAAAAAAA8L8QPvjggw/uvyB88MEHH+y/MLrooosu6r88+OCDDz7ov0w22WSTTea/XHTRRRdd5L9ssskmm2ziv3zwwQcffOC/GF100UUX3b842WSTTTbZv1BVVVVVVdW/cNFFF1100b8gm2yyySbLv2CTTTbZZMO/QBdddNFFt78AH3zwwQefvwAffPDBB58/QBdddNFFtz9gk0022WTDPzCbbLLJJss/eNFFF1100T9YVVVVVVXVPzjZZJNNNtk/GF100UUX3T988MEHH3zgP2yyySabbOI/YHTRRRdd5D9QNtlkk03mP0D44IMPPug/MLrooosu6j8gfPDBBx/sPxA++OCDD+4/AAAAAAAA8D/44IMPPvjwP/DBBx988PE/6KKLLrro8j/ggw8++ODzP9hkk0022fQ/0EUXXXTR9T/MJptsssn2P8QHH3zwwfc/vOiiiy66+D+0ySabbLL5P6yqqqqqqvo/pIsuuuii+z+cbLLJJpv8P5RNNtlkk/0/jC666KKL/j+EDz744IP/Pz744IMPPgBAuuiiiy66AEA22WSTTTYBQLLJJptssgFALrrooosuAkCsqqqqqqoCQCibbLLJJgNApIsuuuiiA0AgfPDBBx8EQJxssskmmwRAGF100UUXBUCUTTbZZJMFQBA++OCDDwZAjC666KKLBkAIH3zwwQcHQIQPPvjggwdAAAAAAAAACEA=\",\"dtype\":\"float64\",\"shape\":[100]},\"y\":{\"__ndarray__\":\"0uWFvgSu778SZm6LG1nvvxuYQ4y65u6/7qTfRU1X7r9EM2WLWqvtv5JVgv+D4+y/u5F/fIUA7L+O1qljNAPrv+BdvdR+7Om/qQgOzmq96L/0nz82FXfnvw59ddCwGua/b1n1G4Wp5L/hV0wg7STjv16rFydWjuG/cQRHyXzO37/p/EUhZ2Lcv0PupeCi29i/UefNpoA91b8belgKZ4vRv1bYZ82ekcu/In47MIXyw7+wxy2kVoG4v2F6AKEzDaK/Sx1yInzymT+UpHLbvvm1P2J22SsbscI/3nwczMRTyj8NjyNw1+7QP9vj157ho9Q/WoJN04RF2D/CN7srV9DbP4HF5DgEQd8/jAa1DyhK4T/R3f1QjePiPzz2zAgxa+Q/GNGMEKPf5T+neqRMhT/nP5ark/WMieg/wpXjzoO86T9AEchKSdfqP2oGX5nT2Os/9hmPojDA7D8JuZrphoztPy6YkVkWPe4/y3bg+TjR7j+Wa1WKY0jvPx0RBgYmou8/FIacDCze7z8iRagxPfzvPyJFqDE9/O8/FIacDCze7z8dEQYGJqLvP5VrVYpjSO8/yXbg+TjR7j8smJFZFj3uPwm5mumGjO0/9hmPojDA7D9qBl+Z09jrP0ARyEpJ1+o/v5XjzoO86T+Uq5P1jInoP6R6pEyFP+c/GNGMEKPf5T889swIMWvkP9Hd/VCN4+I/jAa1DyhK4T+BxeQ4BEHfP8I3uytX0Ns/WoJN04RF2D/e49ee4aPUPxGPI3DX7tA/5nwczMRTyj9SdtkrG7HCP3Skctu++bU/yxxyInzymT+hegChMw2iv9DHLaRWgbi/Kn47MIXyw79e2GfNnpHLvx96WApni9G/UefNpoA91b9D7qXgotvYv+n8RSFnYty/cQRHyXzO379eqxcnVo7hv+FXTCDtJOO/b1n1G4Wp5L8TfXXQsBrmv/afPzYVd+e/rAgOzmq96L/iXb3Ufuzpv5DWqWM0A+u/vZF/fIUA7L+UVYL/g+Psv0QzZYtaq+2/7qTfRU1X7r8bmEOMuubuvxJmbosbWe+/0uWFvgSu778=\",\"dtype\":\"float64\",\"shape\":[100]}}},\"id\":\"fe8e1023-4ced-42d7-90b5-975aaaa9ba07\",\"type\":\"ColumnDataSource\"},{\"attributes\":{},\"id\":\"cdc1d8da-9108-42a2-aecb-7e2b7cc47320\",\"type\":\"PanTool\"},{\"attributes\":{\"active_drag\":\"auto\",\"active_inspect\":\"auto\",\"active_scroll\":\"auto\",\"active_tap\":\"auto\",\"tools\":[{\"id\":\"cdc1d8da-9108-42a2-aecb-7e2b7cc47320\",\"type\":\"PanTool\"},{\"id\":\"aad50500-a3ee-4c7d-898a-ba6cbb9ce2fb\",\"type\":\"WheelZoomTool\"},{\"id\":\"0514a2a3-ffd6-4712-aa3c-b869c361745d\",\"type\":\"BoxZoomTool\"},{\"id\":\"2dbf1db8-5c11-40bb-be1c-a26275d9a581\",\"type\":\"SaveTool\"},{\"id\":\"57e085af-51ac-40d3-b371-be003a38b072\",\"type\":\"ResetTool\"},{\"id\":\"298c1fae-b746-48f8-844f-858579dc4aac\",\"type\":\"HelpTool\"}]},\"id\":\"58387454-6769-4571-9891-2f26044dfb89\",\"type\":\"Toolbar\"},{\"attributes\":{\"fill_alpha\":{\"value\":0.1},\"fill_color\":{\"value\":\"#1f77b4\"},\"line_alpha\":{\"value\":0.1},\"line_color\":{\"value\":\"#1f77b4\"},\"size\":{\"units\":\"screen\",\"value\":7},\"x\":{\"field\":\"x\"},\"y\":{\"field\":\"y\"}},\"id\":\"9dfd4ff4-4ec7-40c0-a104-908445e1f673\",\"type\":\"Circle\"},{\"attributes\":{\"callback\":null},\"id\":\"5927e02c-8cd0-45eb-b0b7-9463043b6387\",\"type\":\"DataRange1d\"},{\"attributes\":{},\"id\":\"aad50500-a3ee-4c7d-898a-ba6cbb9ce2fb\",\"type\":\"WheelZoomTool\"},{\"attributes\":{\"overlay\":{\"id\":\"7c862fc1-5583-470e-8ca5-c0b07212c23f\",\"type\":\"BoxAnnotation\"}},\"id\":\"0514a2a3-ffd6-4712-aa3c-b869c361745d\",\"type\":\"BoxZoomTool\"},{\"attributes\":{},\"id\":\"2dbf1db8-5c11-40bb-be1c-a26275d9a581\",\"type\":\"SaveTool\"},{\"attributes\":{},\"id\":\"d7877ad2-0ef4-4004-8faf-a236731372f2\",\"type\":\"LinearScale\"},{\"attributes\":{},\"id\":\"57e085af-51ac-40d3-b371-be003a38b072\",\"type\":\"ResetTool\"},{\"attributes\":{\"callback\":null},\"id\":\"fe4d2f3d-b9c0-42b4-aecd-6690ae5cc9ff\",\"type\":\"DataRange1d\"},{\"attributes\":{},\"id\":\"298c1fae-b746-48f8-844f-858579dc4aac\",\"type\":\"HelpTool\"},{\"attributes\":{},\"id\":\"ff7e2274-78a9-4657-be29-5d83381f8b27\",\"type\":\"LinearScale\"},{\"attributes\":{\"fill_alpha\":{\"value\":0.5},\"fill_color\":{\"value\":\"firebrick\"},\"line_alpha\":{\"value\":0.5},\"line_color\":{\"value\":\"firebrick\"},\"size\":{\"units\":\"screen\",\"value\":7},\"x\":{\"field\":\"x\"},\"y\":{\"field\":\"y\"}},\"id\":\"f7bde3e7-34e4-4705-9129-65dd0c773a28\",\"type\":\"Circle\"},{\"attributes\":{\"source\":{\"id\":\"fe8e1023-4ced-42d7-90b5-975aaaa9ba07\",\"type\":\"ColumnDataSource\"}},\"id\":\"c242f869-6979-4260-9f2b-9d13c69f2587\",\"type\":\"CDSView\"},{\"attributes\":{},\"id\":\"031a43e6-6fbc-41fa-95e6-28ed81fdf7b6\",\"type\":\"BasicTickFormatter\"},{\"attributes\":{\"formatter\":{\"id\":\"2ec29cf4-d943-4907-b777-939a8ed95647\",\"type\":\"BasicTickFormatter\"},\"plot\":{\"id\":\"01ef422f-d88b-4b53-b24e-be6428658a6c\",\"subtype\":\"Figure\",\"type\":\"Plot\"},\"ticker\":{\"id\":\"7a91a89f-804a-42f2-b3e7-65713ce91017\",\"type\":\"BasicTicker\"}},\"id\":\"10674ddf-f300-416e-9fd0-86df4e1f3e05\",\"type\":\"LinearAxis\"},{\"attributes\":{\"plot\":null,\"text\":\"\"},\"id\":\"e2a94a77-0a87-4d0d-8e52-6601cfac6a18\",\"type\":\"Title\"},{\"attributes\":{},\"id\":\"7a91a89f-804a-42f2-b3e7-65713ce91017\",\"type\":\"BasicTicker\"},{\"attributes\":{\"plot\":{\"id\":\"01ef422f-d88b-4b53-b24e-be6428658a6c\",\"subtype\":\"Figure\",\"type\":\"Plot\"},\"ticker\":{\"id\":\"7a91a89f-804a-42f2-b3e7-65713ce91017\",\"type\":\"BasicTicker\"}},\"id\":\"ec1af82c-a9ef-4bb8-acbb-7500945208a2\",\"type\":\"Grid\"},{\"attributes\":{\"formatter\":{\"id\":\"031a43e6-6fbc-41fa-95e6-28ed81fdf7b6\",\"type\":\"BasicTickFormatter\"},\"plot\":{\"id\":\"01ef422f-d88b-4b53-b24e-be6428658a6c\",\"subtype\":\"Figure\",\"type\":\"Plot\"},\"ticker\":{\"id\":\"3bc47d36-5477-4323-97b7-4ae1d0c0e2ee\",\"type\":\"BasicTicker\"}},\"id\":\"64b9cbdf-e45c-4aba-b046-a3918ff7a468\",\"type\":\"LinearAxis\"},{\"attributes\":{},\"id\":\"3bc47d36-5477-4323-97b7-4ae1d0c0e2ee\",\"type\":\"BasicTicker\"}],\"root_ids\":[\"01ef422f-d88b-4b53-b24e-be6428658a6c\"]},\"title\":\"Bokeh Application\",\"version\":\"0.12.13\"}};\n",
       "  var render_items = [{\"docid\":\"076d42f6-3fcf-4928-a59f-b9e3b1c5d1e1\",\"elementid\":\"e6ea5cfa-e879-465a-b637-cf10a8ebd173\",\"modelid\":\"01ef422f-d88b-4b53-b24e-be6428658a6c\"}];\n",
       "  root.Bokeh.embed.embed_items_notebook(docs_json, render_items);\n",
       "\n",
       "  }\n",
       "  if (root.Bokeh !== undefined) {\n",
       "    embed_document(root);\n",
       "  } else {\n",
       "    var attempts = 0;\n",
       "    var timer = setInterval(function(root) {\n",
       "      if (root.Bokeh !== undefined) {\n",
       "        embed_document(root);\n",
       "        clearInterval(timer);\n",
       "      }\n",
       "      attempts++;\n",
       "      if (attempts > 100) {\n",
       "        console.log(\"Bokeh: ERROR: Unable to run BokehJS code because BokehJS library is missing\")\n",
       "        clearInterval(timer);\n",
       "      }\n",
       "    }, 10, root)\n",
       "  }\n",
       "})(window);"
      ],
      "application/vnd.bokehjs_exec.v0+json": ""
     },
     "metadata": {
      "application/vnd.bokehjs_exec.v0+json": {
       "id": "01ef422f-d88b-4b53-b24e-be6428658a6c"
      }
     },
     "output_type": "display_data"
    }
   ],
   "source": [
    "p = figure(width=500, height = 500)\n",
    "p.circle(x, y, size = 7, color = \"firebrick\", alpha = 0.5)\n",
    "show(p)"
   ]
  },
  {
   "cell_type": "code",
   "execution_count": 7,
   "metadata": {},
   "outputs": [],
   "source": [
    "from bokeh.sampledata.autompg import autompg"
   ]
  },
  {
   "cell_type": "code",
   "execution_count": 8,
   "metadata": {},
   "outputs": [
    {
     "data": {
      "text/html": [
       "<div>\n",
       "<style scoped>\n",
       "    .dataframe tbody tr th:only-of-type {\n",
       "        vertical-align: middle;\n",
       "    }\n",
       "\n",
       "    .dataframe tbody tr th {\n",
       "        vertical-align: top;\n",
       "    }\n",
       "\n",
       "    .dataframe thead th {\n",
       "        text-align: right;\n",
       "    }\n",
       "</style>\n",
       "<table border=\"1\" class=\"dataframe\">\n",
       "  <thead>\n",
       "    <tr style=\"text-align: right;\">\n",
       "      <th></th>\n",
       "      <th>mpg</th>\n",
       "      <th>cyl</th>\n",
       "      <th>displ</th>\n",
       "      <th>hp</th>\n",
       "      <th>weight</th>\n",
       "      <th>accel</th>\n",
       "      <th>yr</th>\n",
       "      <th>origin</th>\n",
       "      <th>name</th>\n",
       "    </tr>\n",
       "  </thead>\n",
       "  <tbody>\n",
       "    <tr>\n",
       "      <th>0</th>\n",
       "      <td>18.0</td>\n",
       "      <td>8</td>\n",
       "      <td>307.0</td>\n",
       "      <td>130</td>\n",
       "      <td>3504</td>\n",
       "      <td>12.0</td>\n",
       "      <td>70</td>\n",
       "      <td>1</td>\n",
       "      <td>chevrolet chevelle malibu</td>\n",
       "    </tr>\n",
       "    <tr>\n",
       "      <th>1</th>\n",
       "      <td>15.0</td>\n",
       "      <td>8</td>\n",
       "      <td>350.0</td>\n",
       "      <td>165</td>\n",
       "      <td>3693</td>\n",
       "      <td>11.5</td>\n",
       "      <td>70</td>\n",
       "      <td>1</td>\n",
       "      <td>buick skylark 320</td>\n",
       "    </tr>\n",
       "    <tr>\n",
       "      <th>2</th>\n",
       "      <td>18.0</td>\n",
       "      <td>8</td>\n",
       "      <td>318.0</td>\n",
       "      <td>150</td>\n",
       "      <td>3436</td>\n",
       "      <td>11.0</td>\n",
       "      <td>70</td>\n",
       "      <td>1</td>\n",
       "      <td>plymouth satellite</td>\n",
       "    </tr>\n",
       "    <tr>\n",
       "      <th>3</th>\n",
       "      <td>16.0</td>\n",
       "      <td>8</td>\n",
       "      <td>304.0</td>\n",
       "      <td>150</td>\n",
       "      <td>3433</td>\n",
       "      <td>12.0</td>\n",
       "      <td>70</td>\n",
       "      <td>1</td>\n",
       "      <td>amc rebel sst</td>\n",
       "    </tr>\n",
       "    <tr>\n",
       "      <th>4</th>\n",
       "      <td>17.0</td>\n",
       "      <td>8</td>\n",
       "      <td>302.0</td>\n",
       "      <td>140</td>\n",
       "      <td>3449</td>\n",
       "      <td>10.5</td>\n",
       "      <td>70</td>\n",
       "      <td>1</td>\n",
       "      <td>ford torino</td>\n",
       "    </tr>\n",
       "  </tbody>\n",
       "</table>\n",
       "</div>"
      ],
      "text/plain": [
       "    mpg  cyl  displ   hp  weight  accel  yr  origin                       name\n",
       "0  18.0    8  307.0  130    3504   12.0  70       1  chevrolet chevelle malibu\n",
       "1  15.0    8  350.0  165    3693   11.5  70       1          buick skylark 320\n",
       "2  18.0    8  318.0  150    3436   11.0  70       1         plymouth satellite\n",
       "3  16.0    8  304.0  150    3433   12.0  70       1              amc rebel sst\n",
       "4  17.0    8  302.0  140    3449   10.5  70       1                ford torino"
      ]
     },
     "execution_count": 8,
     "metadata": {},
     "output_type": "execute_result"
    }
   ],
   "source": [
    "autompg.head()"
   ]
  },
  {
   "cell_type": "code",
   "execution_count": 9,
   "metadata": {},
   "outputs": [],
   "source": [
    "grouped = autompg.groupby('yr')\n",
    "mpg = grouped['mpg']\n",
    "avg = mpg.mean()\n",
    "std = mpg.std()\n",
    "years = list(grouped.groups.keys())\n",
    "american = autompg[autompg[\"origin\"] == 1]\n",
    "japanese = autompg[autompg[\"origin\"] == 3]"
   ]
  },
  {
   "cell_type": "code",
   "execution_count": 10,
   "metadata": {},
   "outputs": [
    {
     "data": {
      "text/html": [
       "\n",
       "<div class=\"bk-root\">\n",
       "    <div class=\"bk-plotdiv\" id=\"9e9ec4f6-f851-4bed-b7b2-f529eadf1890\"></div>\n",
       "</div>"
      ]
     },
     "metadata": {},
     "output_type": "display_data"
    },
    {
     "data": {
      "application/javascript": [
       "(function(root) {\n",
       "  function embed_document(root) {\n",
       "    \n",
       "  var docs_json = {\"9712a5cb-c0cc-4d27-9451-ba136e437faa\":{\"roots\":{\"references\":[{\"attributes\":{\"bottom_units\":\"screen\",\"fill_alpha\":{\"value\":0.5},\"fill_color\":{\"value\":\"lightgrey\"},\"left_units\":\"screen\",\"level\":\"overlay\",\"line_alpha\":{\"value\":1.0},\"line_color\":{\"value\":\"black\"},\"line_dash\":[4,4],\"line_width\":{\"value\":2},\"plot\":null,\"render_mode\":\"css\",\"right_units\":\"screen\",\"top_units\":\"screen\"},\"id\":\"83884427-8f68-4a53-a93f-ca03c7081e5a\",\"type\":\"BoxAnnotation\"},{\"attributes\":{\"source\":{\"id\":\"0176b2a5-8cdc-42c4-adc1-d4b416018449\",\"type\":\"ColumnDataSource\"}},\"id\":\"cd23cecd-f37b-4bc4-9523-2981124c2338\",\"type\":\"CDSView\"},{\"attributes\":{},\"id\":\"05d53ed2-3b4d-4d34-b7d2-4dc9002524af\",\"type\":\"SaveTool\"},{\"attributes\":{},\"id\":\"a1c16e86-7747-4ee1-8da9-62f083212324\",\"type\":\"ResetTool\"},{\"attributes\":{\"data_source\":{\"id\":\"0176b2a5-8cdc-42c4-adc1-d4b416018449\",\"type\":\"ColumnDataSource\"},\"glyph\":{\"id\":\"abb06bd2-3c5e-411d-b469-3183930e84f6\",\"type\":\"Triangle\"},\"hover_glyph\":null,\"muted_glyph\":null,\"nonselection_glyph\":{\"id\":\"4cadcb61-a97e-4b2a-baff-69a7abf8583a\",\"type\":\"Triangle\"},\"selection_glyph\":null,\"view\":{\"id\":\"cd23cecd-f37b-4bc4-9523-2981124c2338\",\"type\":\"CDSView\"}},\"id\":\"b881400e-8c00-41b2-9086-68ea1e5977fa\",\"type\":\"GlyphRenderer\"},{\"attributes\":{},\"id\":\"b41e32b2-eca7-4a7a-a442-95ccb5ccb362\",\"type\":\"HelpTool\"},{\"attributes\":{\"fill_alpha\":{\"value\":0.1},\"fill_color\":{\"value\":\"#1f77b4\"},\"line_alpha\":{\"value\":0.1},\"line_color\":{\"value\":\"#1f77b4\"},\"size\":{\"units\":\"screen\",\"value\":10},\"x\":{\"field\":\"x\"},\"y\":{\"field\":\"y\"}},\"id\":\"ecb14aa7-6ccb-4975-8736-85a9cf9bff74\",\"type\":\"Circle\"},{\"attributes\":{},\"id\":\"44534887-9304-41e5-b71d-a3df45f104e9\",\"type\":\"WheelZoomTool\"},{\"attributes\":{\"data_source\":{\"id\":\"08165669-7840-441c-8b96-c43a7e6168eb\",\"type\":\"ColumnDataSource\"},\"glyph\":{\"id\":\"0d9b0a87-c1e6-45c2-92b5-ec25ebb4966d\",\"type\":\"VBar\"},\"hover_glyph\":null,\"muted_glyph\":null,\"nonselection_glyph\":{\"id\":\"67f06398-7f27-4e13-a1d5-9937fcae9638\",\"type\":\"VBar\"},\"selection_glyph\":null,\"view\":{\"id\":\"c56b72fe-5765-4b3c-af09-4a4122a0d95c\",\"type\":\"CDSView\"}},\"id\":\"a73d9928-11ce-4621-9cf3-f22c071afbb3\",\"type\":\"GlyphRenderer\"},{\"attributes\":{\"fill_alpha\":{\"value\":0.5},\"fill_color\":{\"value\":\"red\"},\"line_alpha\":{\"value\":0.5},\"line_color\":{\"value\":\"red\"},\"size\":{\"units\":\"screen\",\"value\":10},\"x\":{\"field\":\"x\"},\"y\":{\"field\":\"y\"}},\"id\":\"8508af7d-1519-4d20-a8d5-4f3f375146c1\",\"type\":\"Circle\"},{\"attributes\":{\"bottom\":{\"field\":\"bottom\"},\"fill_alpha\":{\"value\":0.1},\"fill_color\":{\"value\":\"#1f77b4\"},\"line_alpha\":{\"value\":0.1},\"line_color\":{\"value\":\"#1f77b4\"},\"top\":{\"field\":\"top\"},\"width\":{\"value\":0.8},\"x\":{\"field\":\"x\"}},\"id\":\"67f06398-7f27-4e13-a1d5-9937fcae9638\",\"type\":\"VBar\"},{\"attributes\":{\"callback\":null,\"column_names\":[\"x\",\"top\",\"bottom\"],\"data\":{\"bottom\":{\"__ndarray__\":\"gvFgx2qzKECcKci59t4sQJZdRzm5jipAzvVtn6zMKECki7kXNjswQIpnc6D2pi5ApAV4qVNeL0DtFQi6+rIwQBxLQL6+KTFAWBwW2YNMMkBnDzEy+Oo6QAq856zmjDhAfzfsSXnEOkA=\",\"dtype\":\"float64\",\"shape\":[13]},\"top\":{\"__ndarray__\":\"55jlF2UHN0DAzlQxaMk7QBEIyj5aJjhATTh849zMNUD6TNCFok49QMPUTjgNNTlA1KLp0Ht2O0AT6vdFBQ0+QNr+XjaL9T5AVt48aCfjP0AojYptQ1hEQPSsO6IX6UFAQOQJW8OdQkA=\",\"dtype\":\"float64\",\"shape\":[13]},\"x\":[70,71,72,73,74,75,76,77,78,79,80,81,82]}},\"id\":\"08165669-7840-441c-8b96-c43a7e6168eb\",\"type\":\"ColumnDataSource\"},{\"attributes\":{\"fill_alpha\":{\"value\":0.3},\"fill_color\":{\"value\":\"blue\"},\"line_alpha\":{\"value\":0.3},\"line_color\":{\"value\":\"blue\"},\"size\":{\"units\":\"screen\",\"value\":10},\"x\":{\"field\":\"x\"},\"y\":{\"field\":\"y\"}},\"id\":\"abb06bd2-3c5e-411d-b469-3183930e84f6\",\"type\":\"Triangle\"},{\"attributes\":{\"below\":[{\"id\":\"9d9cc943-139a-4c8f-b510-ae311f23f5e4\",\"type\":\"LinearAxis\"}],\"left\":[{\"id\":\"567de89b-71b5-4c89-a95c-6fa21fb11625\",\"type\":\"LinearAxis\"}],\"renderers\":[{\"id\":\"9d9cc943-139a-4c8f-b510-ae311f23f5e4\",\"type\":\"LinearAxis\"},{\"id\":\"175396c3-ccb7-43cd-be93-483ba0b731d0\",\"type\":\"Grid\"},{\"id\":\"567de89b-71b5-4c89-a95c-6fa21fb11625\",\"type\":\"LinearAxis\"},{\"id\":\"472ae438-db21-44e7-a066-d0995e9316e5\",\"type\":\"Grid\"},{\"id\":\"83884427-8f68-4a53-a93f-ca03c7081e5a\",\"type\":\"BoxAnnotation\"},{\"id\":\"5123d083-308c-44ed-8cd1-d653c083f81c\",\"type\":\"Legend\"},{\"id\":\"a73d9928-11ce-4621-9cf3-f22c071afbb3\",\"type\":\"GlyphRenderer\"},{\"id\":\"8d39624c-5b15-4e4f-8213-50a1ad66d92a\",\"type\":\"GlyphRenderer\"},{\"id\":\"b881400e-8c00-41b2-9086-68ea1e5977fa\",\"type\":\"GlyphRenderer\"}],\"title\":{\"id\":\"0d1b11e1-97b0-4c86-bab3-2acb900e2710\",\"type\":\"Title\"},\"toolbar\":{\"id\":\"c5792f98-af69-409f-ade5-f323c7a860a0\",\"type\":\"Toolbar\"},\"x_range\":{\"id\":\"7b3d2891-a6b9-43f9-a3ef-e00be548feeb\",\"type\":\"DataRange1d\"},\"x_scale\":{\"id\":\"b80e35cd-97eb-480a-b8dd-982e2a321bd7\",\"type\":\"LinearScale\"},\"y_range\":{\"id\":\"279c8185-7ddb-42d9-b614-1ee8c2b6fd2a\",\"type\":\"DataRange1d\"},\"y_scale\":{\"id\":\"bb297e24-d2e4-4e46-84d3-1676b894e7b9\",\"type\":\"LinearScale\"}},\"id\":\"7f7ef4b8-2186-46ee-9bf4-b4226f89225d\",\"subtype\":\"Figure\",\"type\":\"Plot\"},{\"attributes\":{},\"id\":\"9eda2a57-1a33-4608-afdd-ccc0a0b7656b\",\"type\":\"BasicTickFormatter\"},{\"attributes\":{\"plot\":null,\"text\":\"MPG by Year (Japan and US)\"},\"id\":\"0d1b11e1-97b0-4c86-bab3-2acb900e2710\",\"type\":\"Title\"},{\"attributes\":{\"fill_alpha\":{\"value\":0.1},\"fill_color\":{\"value\":\"#1f77b4\"},\"line_alpha\":{\"value\":0.1},\"line_color\":{\"value\":\"#1f77b4\"},\"size\":{\"units\":\"screen\",\"value\":10},\"x\":{\"field\":\"x\"},\"y\":{\"field\":\"y\"}},\"id\":\"4cadcb61-a97e-4b2a-baff-69a7abf8583a\",\"type\":\"Triangle\"},{\"attributes\":{\"callback\":null},\"id\":\"7b3d2891-a6b9-43f9-a3ef-e00be548feeb\",\"type\":\"DataRange1d\"},{\"attributes\":{\"active_drag\":\"auto\",\"active_inspect\":\"auto\",\"active_scroll\":\"auto\",\"active_tap\":\"auto\",\"tools\":[{\"id\":\"8b8fe775-c912-413e-b7a6-8a1faf881a57\",\"type\":\"PanTool\"},{\"id\":\"44534887-9304-41e5-b71d-a3df45f104e9\",\"type\":\"WheelZoomTool\"},{\"id\":\"a7731094-2c01-4a47-8504-ec32d2c1041c\",\"type\":\"BoxZoomTool\"},{\"id\":\"05d53ed2-3b4d-4d34-b7d2-4dc9002524af\",\"type\":\"SaveTool\"},{\"id\":\"a1c16e86-7747-4ee1-8da9-62f083212324\",\"type\":\"ResetTool\"},{\"id\":\"b41e32b2-eca7-4a7a-a442-95ccb5ccb362\",\"type\":\"HelpTool\"}]},\"id\":\"c5792f98-af69-409f-ade5-f323c7a860a0\",\"type\":\"Toolbar\"},{\"attributes\":{\"label\":{\"value\":\"American\"},\"renderers\":[{\"id\":\"b881400e-8c00-41b2-9086-68ea1e5977fa\",\"type\":\"GlyphRenderer\"}]},\"id\":\"e0eac69b-ac5b-475d-bca0-9b0f867c5368\",\"type\":\"LegendItem\"},{\"attributes\":{},\"id\":\"2697fb2c-21a0-4fd3-b75d-81e5517701fd\",\"type\":\"BasicTicker\"},{\"attributes\":{\"formatter\":{\"id\":\"9eda2a57-1a33-4608-afdd-ccc0a0b7656b\",\"type\":\"BasicTickFormatter\"},\"plot\":{\"id\":\"7f7ef4b8-2186-46ee-9bf4-b4226f89225d\",\"subtype\":\"Figure\",\"type\":\"Plot\"},\"ticker\":{\"id\":\"2697fb2c-21a0-4fd3-b75d-81e5517701fd\",\"type\":\"BasicTicker\"}},\"id\":\"9d9cc943-139a-4c8f-b510-ae311f23f5e4\",\"type\":\"LinearAxis\"},{\"attributes\":{\"callback\":null},\"id\":\"279c8185-7ddb-42d9-b614-1ee8c2b6fd2a\",\"type\":\"DataRange1d\"},{\"attributes\":{},\"id\":\"6e1ede57-e53b-484e-99d7-c9ebba315700\",\"type\":\"BasicTickFormatter\"},{\"attributes\":{},\"id\":\"b80e35cd-97eb-480a-b8dd-982e2a321bd7\",\"type\":\"LinearScale\"},{\"attributes\":{},\"id\":\"bb297e24-d2e4-4e46-84d3-1676b894e7b9\",\"type\":\"LinearScale\"},{\"attributes\":{\"source\":{\"id\":\"30eb42ac-b230-48d8-bfca-4d6407f00d9d\",\"type\":\"ColumnDataSource\"}},\"id\":\"5a54a7a5-c019-4aec-b837-60dd81c96e7c\",\"type\":\"CDSView\"},{\"attributes\":{\"data_source\":{\"id\":\"30eb42ac-b230-48d8-bfca-4d6407f00d9d\",\"type\":\"ColumnDataSource\"},\"glyph\":{\"id\":\"8508af7d-1519-4d20-a8d5-4f3f375146c1\",\"type\":\"Circle\"},\"hover_glyph\":null,\"muted_glyph\":null,\"nonselection_glyph\":{\"id\":\"ecb14aa7-6ccb-4975-8736-85a9cf9bff74\",\"type\":\"Circle\"},\"selection_glyph\":null,\"view\":{\"id\":\"5a54a7a5-c019-4aec-b837-60dd81c96e7c\",\"type\":\"CDSView\"}},\"id\":\"8d39624c-5b15-4e4f-8213-50a1ad66d92a\",\"type\":\"GlyphRenderer\"},{\"attributes\":{\"plot\":{\"id\":\"7f7ef4b8-2186-46ee-9bf4-b4226f89225d\",\"subtype\":\"Figure\",\"type\":\"Plot\"},\"ticker\":{\"id\":\"2697fb2c-21a0-4fd3-b75d-81e5517701fd\",\"type\":\"BasicTicker\"}},\"id\":\"175396c3-ccb7-43cd-be93-483ba0b731d0\",\"type\":\"Grid\"},{\"attributes\":{\"label\":{\"value\":\"MPG 1 stddev\"},\"renderers\":[{\"id\":\"a73d9928-11ce-4621-9cf3-f22c071afbb3\",\"type\":\"GlyphRenderer\"}]},\"id\":\"48297fef-8a8b-45d9-8101-5710ba7f897a\",\"type\":\"LegendItem\"},{\"attributes\":{\"formatter\":{\"id\":\"6e1ede57-e53b-484e-99d7-c9ebba315700\",\"type\":\"BasicTickFormatter\"},\"plot\":{\"id\":\"7f7ef4b8-2186-46ee-9bf4-b4226f89225d\",\"subtype\":\"Figure\",\"type\":\"Plot\"},\"ticker\":{\"id\":\"acf6f1a9-7a5f-43de-9eb3-6315a202b425\",\"type\":\"BasicTicker\"}},\"id\":\"567de89b-71b5-4c89-a95c-6fa21fb11625\",\"type\":\"LinearAxis\"},{\"attributes\":{},\"id\":\"acf6f1a9-7a5f-43de-9eb3-6315a202b425\",\"type\":\"BasicTicker\"},{\"attributes\":{\"items\":[{\"id\":\"48297fef-8a8b-45d9-8101-5710ba7f897a\",\"type\":\"LegendItem\"},{\"id\":\"f05047f7-17c5-4aa2-87c7-e0f6043f8854\",\"type\":\"LegendItem\"},{\"id\":\"e0eac69b-ac5b-475d-bca0-9b0f867c5368\",\"type\":\"LegendItem\"}],\"plot\":{\"id\":\"7f7ef4b8-2186-46ee-9bf4-b4226f89225d\",\"subtype\":\"Figure\",\"type\":\"Plot\"}},\"id\":\"5123d083-308c-44ed-8cd1-d653c083f81c\",\"type\":\"Legend\"},{\"attributes\":{\"dimension\":1,\"plot\":{\"id\":\"7f7ef4b8-2186-46ee-9bf4-b4226f89225d\",\"subtype\":\"Figure\",\"type\":\"Plot\"},\"ticker\":{\"id\":\"acf6f1a9-7a5f-43de-9eb3-6315a202b425\",\"type\":\"BasicTicker\"}},\"id\":\"472ae438-db21-44e7-a066-d0995e9316e5\",\"type\":\"Grid\"},{\"attributes\":{\"callback\":null,\"column_names\":[\"x\",\"y\"],\"data\":{\"x\":[70,70,71,71,71,71,72,72,72,72,72,73,73,73,73,74,74,74,74,74,74,75,75,75,75,76,76,76,76,77,77,77,77,77,77,78,78,78,78,78,78,78,78,79,79,80,80,80,80,80,80,80,80,80,80,80,80,80,81,81,81,81,81,81,81,81,81,81,81,81,82,82,82,82,82,82,82,82,82],\"y\":{\"__ndarray__\":\"AAAAAAAAOEAAAAAAAAA7QAAAAAAAADtAAAAAAAAAOUAAAAAAAAA/QAAAAAAAgEFAAAAAAAAAOEAAAAAAAAAzQAAAAAAAADxAAAAAAAAAN0AAAAAAAAA7QAAAAAAAADRAAAAAAAAANkAAAAAAAAAyQAAAAAAAADRAAAAAAAAAP0AAAAAAAABAQAAAAAAAAD9AAAAAAAAAQEAAAAAAAAA4QAAAAAAAADpAAAAAAAAAPUAAAAAAAAA4QAAAAAAAADhAAAAAAACAQEAAAAAAAIBAQAAAAAAAAEBAAAAAAAAAPEAAAAAAAAAzQAAAAAAAgD9AAAAAAADAQEAAAAAAAAA6QAAAAAAAAD5AAAAAAAAANkAAAAAAAIA1QGZmZmZmZkBAMzMzMzOzQ0DNzMzMzAxCQAAAAAAAgDtAMzMzMzMzO0CamZmZmRk1QGZmZmZm5jdAAAAAAACAPUDNzMzMzAxBQM3MzMzMzD9AzczMzMwMQ0CamZmZmZlCQM3MzMzMzD1AzczMzMxMP0AAAAAAAIBCQJqZmZmZGUBAzczMzMxMR0BmZmZmZmZEQM3MzMzMTEZAZmZmZmbmQECamZmZmVlAQDMzMzMzszdAMzMzMzMzQEDNzMzMzIxDQM3MzMzMjEFAZmZmZmYmQEAAAAAAAIBCQJqZmZmZ2UJAzczMzMwMQUCamZmZmdlAQDMzMzMzM0BAMzMzMzNzQECamZmZmZk/QGZmZmZmZjlAMzMzMzMzOEAAAAAAAIBCQAAAAAAAAD9AAAAAAAAAQkAAAAAAAABCQAAAAAAAAEFAAAAAAAAAQ0AAAAAAAABAQAAAAAAAAENAAAAAAAAAQEA=\",\"dtype\":\"float64\",\"shape\":[79]}}},\"id\":\"30eb42ac-b230-48d8-bfca-4d6407f00d9d\",\"type\":\"ColumnDataSource\"},{\"attributes\":{\"source\":{\"id\":\"08165669-7840-441c-8b96-c43a7e6168eb\",\"type\":\"ColumnDataSource\"}},\"id\":\"c56b72fe-5765-4b3c-af09-4a4122a0d95c\",\"type\":\"CDSView\"},{\"attributes\":{\"callback\":null,\"column_names\":[\"x\",\"y\"],\"data\":{\"x\":[70,70,70,70,70,70,70,70,70,70,70,70,70,70,70,70,70,70,70,70,70,70,71,71,71,71,71,71,71,71,71,71,71,71,71,71,71,71,71,71,71,72,72,72,72,72,72,72,72,72,72,72,72,72,72,72,72,72,72,73,73,73,73,73,73,73,73,73,73,73,73,73,73,73,73,73,73,73,73,73,73,73,73,73,73,73,73,73,74,74,74,74,74,74,74,74,74,74,74,74,74,74,75,75,75,75,75,75,75,75,75,75,75,75,75,75,75,75,75,75,75,75,76,76,76,76,76,76,76,76,76,76,76,76,76,76,76,76,76,76,76,76,76,76,77,77,77,77,77,77,77,77,77,77,77,77,77,77,77,77,77,77,78,78,78,78,78,78,78,78,78,78,78,78,78,78,78,78,78,78,78,78,78,78,79,79,79,79,79,79,79,79,79,79,79,79,79,79,79,79,79,79,79,79,79,79,79,80,80,80,80,80,80,81,81,81,81,81,81,81,81,81,81,81,81,81,82,82,82,82,82,82,82,82,82,82,82,82,82,82,82,82,82,82,82],\"y\":{\"__ndarray__\":\"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\",\"dtype\":\"float64\",\"shape\":[245]}}},\"id\":\"0176b2a5-8cdc-42c4-adc1-d4b416018449\",\"type\":\"ColumnDataSource\"},{\"attributes\":{},\"id\":\"8b8fe775-c912-413e-b7a6-8a1faf881a57\",\"type\":\"PanTool\"},{\"attributes\":{\"label\":{\"value\":\"Japanese\"},\"renderers\":[{\"id\":\"8d39624c-5b15-4e4f-8213-50a1ad66d92a\",\"type\":\"GlyphRenderer\"}]},\"id\":\"f05047f7-17c5-4aa2-87c7-e0f6043f8854\",\"type\":\"LegendItem\"},{\"attributes\":{\"overlay\":{\"id\":\"83884427-8f68-4a53-a93f-ca03c7081e5a\",\"type\":\"BoxAnnotation\"}},\"id\":\"a7731094-2c01-4a47-8504-ec32d2c1041c\",\"type\":\"BoxZoomTool\"},{\"attributes\":{\"bottom\":{\"field\":\"bottom\"},\"fill_alpha\":{\"value\":0.2},\"fill_color\":{\"value\":\"#1f77b4\"},\"line_color\":{\"value\":null},\"top\":{\"field\":\"top\"},\"width\":{\"value\":0.8},\"x\":{\"field\":\"x\"}},\"id\":\"0d9b0a87-c1e6-45c2-92b5-ec25ebb4966d\",\"type\":\"VBar\"}],\"root_ids\":[\"7f7ef4b8-2186-46ee-9bf4-b4226f89225d\"]},\"title\":\"Bokeh Application\",\"version\":\"0.12.13\"}};\n",
       "  var render_items = [{\"docid\":\"9712a5cb-c0cc-4d27-9451-ba136e437faa\",\"elementid\":\"9e9ec4f6-f851-4bed-b7b2-f529eadf1890\",\"modelid\":\"7f7ef4b8-2186-46ee-9bf4-b4226f89225d\"}];\n",
       "  root.Bokeh.embed.embed_items_notebook(docs_json, render_items);\n",
       "\n",
       "  }\n",
       "  if (root.Bokeh !== undefined) {\n",
       "    embed_document(root);\n",
       "  } else {\n",
       "    var attempts = 0;\n",
       "    var timer = setInterval(function(root) {\n",
       "      if (root.Bokeh !== undefined) {\n",
       "        embed_document(root);\n",
       "        clearInterval(timer);\n",
       "      }\n",
       "      attempts++;\n",
       "      if (attempts > 100) {\n",
       "        console.log(\"Bokeh: ERROR: Unable to run BokehJS code because BokehJS library is missing\")\n",
       "        clearInterval(timer);\n",
       "      }\n",
       "    }, 10, root)\n",
       "  }\n",
       "})(window);"
      ],
      "application/vnd.bokehjs_exec.v0+json": ""
     },
     "metadata": {
      "application/vnd.bokehjs_exec.v0+json": {
       "id": "7f7ef4b8-2186-46ee-9bf4-b4226f89225d"
      }
     },
     "output_type": "display_data"
    }
   ],
   "source": [
    "p = figure(title = \"MPG by Year (Japan and US)\")\n",
    "p.vbar(x = years, bottom = avg-std, top = avg+std, width = 0.8,\n",
    "      fill_alpha = 0.2, line_color = None, legend = \"MPG 1 stddev\")\n",
    "\n",
    "p.circle(x=japanese['yr'], y=japanese['mpg'], size = 10, alpha = 0.5,\n",
    "        color = 'red', legend = 'Japanese')\n",
    "\n",
    "p.triangle(x = american['yr'], y = american['mpg'], size = 10, alpha = 0.3,\n",
    "          color = 'blue', legend = 'American')\n",
    "\n",
    "show(p)"
   ]
  },
  {
   "cell_type": "markdown",
   "metadata": {},
   "source": [
    "### DataFrame Plotting\n",
    "\n",
    "Here, we need to pass our data to the `ColumnDataSource` method, and call from here the columns of interest for a given plot.  Below, we use the `autompg` to display three different plots bsed on different variable comparisons within the data.  We can display these together using the `gridplot` argument.\n",
    "\n"
   ]
  },
  {
   "cell_type": "code",
   "execution_count": 11,
   "metadata": {},
   "outputs": [
    {
     "data": {
      "text/html": [
       "\n",
       "<div class=\"bk-root\">\n",
       "    <div class=\"bk-plotdiv\" id=\"8de1dd5e-48c3-454e-8528-29b824cf342d\"></div>\n",
       "</div>"
      ]
     },
     "metadata": {},
     "output_type": "display_data"
    },
    {
     "data": {
      "application/javascript": [
       "(function(root) {\n",
       "  function embed_document(root) {\n",
       "    \n",
       "  var docs_json = {\"45d5b41e-3831-4da0-8737-f1ff5b3b9851\":{\"roots\":{\"references\":[{\"attributes\":{\"active_drag\":\"auto\",\"active_inspect\":\"auto\",\"active_scroll\":\"auto\",\"active_tap\":\"auto\",\"tools\":[{\"id\":\"1eef3fba-5c12-419c-8134-a5b8c11f8c3a\",\"type\":\"PanTool\"},{\"id\":\"28fd0c2b-4c34-4aa3-b94a-6b6ad2cc911d\",\"type\":\"WheelZoomTool\"},{\"id\":\"181bbdaf-6235-4373-8eed-24c207638ce0\",\"type\":\"BoxZoomTool\"},{\"id\":\"cea68b07-932e-4c40-bdb0-4162f33a9092\",\"type\":\"SaveTool\"},{\"id\":\"568167b3-7c6b-41fd-ba9b-b1ed59039405\",\"type\":\"ResetTool\"},{\"id\":\"77c1af05-ab26-4fdf-8399-d823deaee930\",\"type\":\"HelpTool\"}]},\"id\":\"379e53ab-c023-472f-a79e-5861300b2669\",\"type\":\"Toolbar\"},{\"attributes\":{\"callback\":null},\"id\":\"23b661e4-6855-4daa-b7c6-e8318acd82b2\",\"type\":\"DataRange1d\"},{\"attributes\":{\"callback\":null},\"id\":\"137ab882-6580-4fad-a38e-13692465232c\",\"type\":\"DataRange1d\"},{\"attributes\":{},\"id\":\"ec3fd318-0f95-4198-a27a-43fa5ad32ae9\",\"type\":\"LinearScale\"},{\"attributes\":{\"children\":[{\"id\":\"43c34e60-51ff-413b-af7f-bc6c32f91225\",\"subtype\":\"Figure\",\"type\":\"Plot\"},{\"id\":\"543aea97-7d56-45aa-b3e5-fd26973af3b2\",\"subtype\":\"Figure\",\"type\":\"Plot\"},{\"id\":\"23e28d8b-b019-48d9-9ac1-a59009375805\",\"subtype\":\"Figure\",\"type\":\"Plot\"}]},\"id\":\"16a1c5ce-6ead-4c43-8af3-03b77c593120\",\"type\":\"Row\"},{\"attributes\":{},\"id\":\"c28a76e8-4c39-4ab1-81c4-26cf0a6db761\",\"type\":\"LinearScale\"},{\"attributes\":{\"plot\":{\"id\":\"23e28d8b-b019-48d9-9ac1-a59009375805\",\"subtype\":\"Figure\",\"type\":\"Plot\"},\"ticker\":{\"id\":\"7b465cab-df3f-47a2-bf2e-c185dcf90ecf\",\"type\":\"BasicTicker\"}},\"id\":\"930d06d0-0e04-416a-ae31-9fc75dd4a7d2\",\"type\":\"Grid\"},{\"attributes\":{\"formatter\":{\"id\":\"d136f354-62f9-4676-86d9-3532e69127cc\",\"type\":\"BasicTickFormatter\"},\"plot\":{\"id\":\"23e28d8b-b019-48d9-9ac1-a59009375805\",\"subtype\":\"Figure\",\"type\":\"Plot\"},\"ticker\":{\"id\":\"7b465cab-df3f-47a2-bf2e-c185dcf90ecf\",\"type\":\"BasicTicker\"}},\"id\":\"bf3e3290-dac1-4012-8600-8a086c8fc667\",\"type\":\"LinearAxis\"},{\"attributes\":{},\"id\":\"7b465cab-df3f-47a2-bf2e-c185dcf90ecf\",\"type\":\"BasicTicker\"},{\"attributes\":{\"formatter\":{\"id\":\"55285412-50de-44ca-9dba-2abdd34e54cc\",\"type\":\"BasicTickFormatter\"},\"plot\":{\"id\":\"23e28d8b-b019-48d9-9ac1-a59009375805\",\"subtype\":\"Figure\",\"type\":\"Plot\"},\"ticker\":{\"id\":\"5e7ce6cb-ee20-40c0-83d4-b6e749dba262\",\"type\":\"BasicTicker\"}},\"id\":\"13e6d892-2a17-4478-892b-73d8ff0ea196\",\"type\":\"LinearAxis\"},{\"attributes\":{},\"id\":\"5e7ce6cb-ee20-40c0-83d4-b6e749dba262\",\"type\":\"BasicTicker\"},{\"attributes\":{\"dimension\":1,\"plot\":{\"id\":\"23e28d8b-b019-48d9-9ac1-a59009375805\",\"subtype\":\"Figure\",\"type\":\"Plot\"},\"ticker\":{\"id\":\"5e7ce6cb-ee20-40c0-83d4-b6e749dba262\",\"type\":\"BasicTicker\"}},\"id\":\"1e0cdb80-cf2f-48c2-a773-71d05ac8af7e\",\"type\":\"Grid\"},{\"attributes\":{},\"id\":\"8d04d743-a5ec-4522-ac1a-2278eb1433f5\",\"type\":\"BasicTickFormatter\"},{\"attributes\":{},\"id\":\"55285412-50de-44ca-9dba-2abdd34e54cc\",\"type\":\"BasicTickFormatter\"},{\"attributes\":{\"bottom_units\":\"screen\",\"fill_alpha\":{\"value\":0.5},\"fill_color\":{\"value\":\"lightgrey\"},\"left_units\":\"screen\",\"level\":\"overlay\",\"line_alpha\":{\"value\":1.0},\"line_color\":{\"value\":\"black\"},\"line_dash\":[4,4],\"line_width\":{\"value\":2},\"plot\":null,\"render_mode\":\"css\",\"right_units\":\"screen\",\"top_units\":\"screen\"},\"id\":\"38031fb6-0d32-4e5e-9798-b792d7ea2459\",\"type\":\"BoxAnnotation\"},{\"attributes\":{\"data_source\":{\"id\":\"733f9ff0-d37f-455b-8122-70b695daaa0c\",\"type\":\"ColumnDataSource\"},\"glyph\":{\"id\":\"08baaf74-63e9-437b-b3a2-86d5f4e356b0\",\"type\":\"Circle\"},\"hover_glyph\":null,\"muted_glyph\":null,\"nonselection_glyph\":{\"id\":\"ab022c32-06f3-4a9b-b4be-c419c9d3ae32\",\"type\":\"Circle\"},\"selection_glyph\":null,\"view\":{\"id\":\"a279c73c-c528-4c24-9177-fa3f45b63c42\",\"type\":\"CDSView\"}},\"id\":\"632a616b-5d26-4046-9133-68f6f3edf2a7\",\"type\":\"GlyphRenderer\"},{\"attributes\":{},\"id\":\"1eef3fba-5c12-419c-8134-a5b8c11f8c3a\",\"type\":\"PanTool\"},{\"attributes\":{},\"id\":\"4462d5e3-3158-42fb-ba54-51c88eb51303\",\"type\":\"BasicTickFormatter\"},{\"attributes\":{\"callback\":null,\"column_names\":[\"mpg\",\"cyl\",\"displ\",\"hp\",\"weight\",\"accel\",\"yr\",\"origin\",\"name\",\"index\"],\"data\":{\"accel\":{\"__ndarray__\":\"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\",\"dtype\":\"float64\",\"shape\":[392]},\"cyl\":[8,8,8,8,8,8,8,8,8,8,8,8,8,8,4,6,6,6,4,4,4,4,4,4,6,8,8,8,8,4,4,4,6,6,6,6,6,8,8,8,8,8,8,8,6,4,6,6,4,4,4,4,4,4,4,4,4,4,4,4,4,8,8,8,8,8,8,8,8,8,3,8,8,8,8,4,4,4,4,4,4,4,4,4,8,8,8,8,8,8,8,8,8,8,8,8,6,6,6,6,6,4,8,8,8,8,6,4,4,4,3,4,6,4,8,8,4,4,4,4,8,4,6,8,6,6,6,4,4,4,4,6,6,6,8,8,8,8,8,4,4,4,4,4,4,4,4,4,4,4,6,6,6,6,8,8,8,8,6,6,6,6,6,8,8,4,4,6,4,4,4,4,6,4,6,4,4,4,4,4,4,4,4,4,4,8,8,8,8,6,6,6,6,4,4,4,4,6,6,6,6,4,4,4,4,4,8,4,6,6,8,8,8,8,4,4,4,4,4,8,8,8,8,6,6,6,6,8,8,8,8,4,4,4,4,4,4,4,4,6,4,3,4,4,4,4,4,8,8,8,6,6,6,4,6,6,6,6,6,6,8,6,8,8,4,4,4,4,4,4,4,4,5,6,4,6,4,4,6,6,4,6,6,8,8,8,8,8,8,8,8,4,4,4,4,5,8,4,8,4,4,4,4,4,6,6,4,4,4,4,4,4,4,4,6,4,4,4,4,4,4,4,4,4,4,5,4,4,4,4,6,3,4,4,4,4,4,6,4,4,4,4,4,4,4,4,4,4,4,4,4,4,4,4,4,6,6,6,6,8,6,6,4,4,4,4,4,4,4,4,4,4,4,4,4,4,4,4,4,4,6,6,4,6,4,4,4,4,4,4,4,4],\"displ\":{\"__ndarray__\":\"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\",\"dtype\":\"float64\",\"shape\":[392]},\"hp\":[130,165,150,150,140,198,220,215,225,190,170,160,150,225,95,95,97,85,88,46,87,90,95,113,90,215,200,210,193,88,90,95,100,105,100,88,100,165,175,153,150,180,170,175,110,72,100,88,86,90,70,76,65,69,60,70,95,80,54,90,86,165,175,150,153,150,208,155,160,190,97,150,130,140,150,112,76,87,69,86,92,97,80,88,175,150,145,137,150,198,150,158,150,215,225,175,105,100,100,88,95,46,150,167,170,180,100,88,72,94,90,85,107,90,145,230,49,75,91,112,150,110,122,180,95,100,100,67,80,65,75,100,110,105,140,150,150,140,150,83,67,78,52,61,75,75,75,97,93,67,95,105,72,72,170,145,150,148,110,105,110,95,110,110,129,75,83,100,78,96,71,97,97,70,90,95,88,98,115,53,86,81,92,79,83,140,150,120,152,100,105,81,90,52,60,70,53,100,78,110,95,71,70,75,72,102,150,88,108,120,180,145,130,150,68,80,58,96,70,145,110,145,130,110,105,100,98,180,170,190,149,78,88,75,89,63,83,67,78,97,110,110,48,66,52,70,60,110,140,139,105,95,85,88,100,90,105,85,110,120,145,165,139,140,68,95,97,75,95,105,85,97,103,125,115,133,71,68,115,85,88,90,110,130,129,138,135,155,142,125,150,71,65,80,80,77,125,71,90,70,70,65,69,90,115,115,90,76,60,70,65,90,88,90,90,78,90,75,92,75,65,105,65,48,48,67,67,67,67,62,132,100,88,72,84,84,92,110,84,58,64,60,67,65,62,68,63,65,65,74,75,75,100,74,80,76,116,120,110,105,88,85,88,88,88,85,84,90,92,74,68,68,63,70,88,75,70,67,67,67,110,85,92,112,96,84,90,86,52,84,79,82],\"index\":[0,1,2,3,4,5,6,7,8,9,10,11,12,13,14,15,16,17,18,19,20,21,22,23,24,25,26,27,28,29,30,31,32,33,34,35,36,37,38,39,40,41,42,43,44,45,46,47,48,49,50,51,52,53,54,55,56,57,58,59,60,61,62,63,64,65,66,67,68,69,70,71,72,73,74,75,76,77,78,79,80,81,82,83,84,85,86,87,88,89,90,91,92,93,94,95,96,97,98,99,100,101,102,103,104,105,106,107,108,109,110,111,112,113,114,115,116,117,118,119,120,121,122,123,124,125,126,127,128,129,130,131,132,133,134,135,136,137,138,139,140,141,142,143,144,145,146,147,148,149,150,151,152,153,154,155,156,157,158,159,160,161,162,163,164,165,166,167,168,169,170,171,172,173,174,175,176,177,178,179,180,181,182,183,184,185,186,187,188,189,190,191,192,193,194,195,196,197,198,199,200,201,202,203,204,205,206,207,208,209,210,211,212,213,214,215,216,217,218,219,220,221,222,223,224,225,226,227,228,229,230,231,232,233,234,235,236,237,238,239,240,241,242,243,244,245,246,247,248,249,250,251,252,253,254,255,256,257,258,259,260,261,262,263,264,265,266,267,268,269,270,271,272,273,274,275,276,277,278,279,280,281,282,283,284,285,286,287,288,289,290,291,292,293,294,295,296,297,298,299,300,301,302,303,304,305,306,307,308,309,310,311,312,313,314,315,316,317,318,319,320,321,322,323,324,325,326,327,328,329,330,331,332,333,334,335,336,337,338,339,340,341,342,343,344,345,346,347,348,349,350,351,352,353,354,355,356,357,358,359,360,361,362,363,364,365,366,367,368,369,370,371,372,373,374,375,376,377,378,379,380,381,382,383,384,385,386,387,388,389,390,391],\"mpg\":{\"__ndarray__\":\"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\",\"dtype\":\"float64\",\"shape\":[392]},\"name\":[\"chevrolet chevelle malibu\",\"buick skylark 320\",\"plymouth satellite\",\"amc rebel sst\",\"ford torino\",\"ford galaxie 500\",\"chevrolet impala\",\"plymouth fury iii\",\"pontiac catalina\",\"amc ambassador dpl\",\"dodge challenger se\",\"plymouth 'cuda 340\",\"chevrolet monte carlo\",\"buick estate wagon (sw)\",\"toyota corona mark ii\",\"plymouth duster\",\"amc hornet\",\"ford maverick\",\"datsun pl510\",\"volkswagen 1131 deluxe sedan\",\"peugeot 504\",\"audi 100 ls\",\"saab 99e\",\"bmw 2002\",\"amc gremlin\",\"ford f250\",\"chevy c20\",\"dodge d200\",\"hi 1200d\",\"datsun pl510\",\"chevrolet vega 2300\",\"toyota corona\",\"amc gremlin\",\"plymouth satellite custom\",\"chevrolet chevelle malibu\",\"ford torino 500\",\"amc matador\",\"chevrolet impala\",\"pontiac catalina brougham\",\"ford galaxie 500\",\"plymouth fury iii\",\"dodge monaco (sw)\",\"ford country squire (sw)\",\"pontiac safari (sw)\",\"amc hornet sportabout (sw)\",\"chevrolet vega (sw)\",\"pontiac firebird\",\"ford mustang\",\"mercury capri 2000\",\"opel 1900\",\"peugeot 304\",\"fiat 124b\",\"toyota corolla 1200\",\"datsun 1200\",\"volkswagen model 111\",\"plymouth cricket\",\"toyota corona hardtop\",\"dodge colt hardtop\",\"volkswagen type 3\",\"chevrolet vega\",\"ford pinto runabout\",\"chevrolet impala\",\"pontiac catalina\",\"plymouth fury iii\",\"ford galaxie 500\",\"amc ambassador sst\",\"mercury marquis\",\"buick lesabre custom\",\"oldsmobile delta 88 royale\",\"chrysler newport royal\",\"mazda rx2 coupe\",\"amc matador (sw)\",\"chevrolet chevelle concours (sw)\",\"ford gran torino (sw)\",\"plymouth satellite custom (sw)\",\"volvo 145e (sw)\",\"volkswagen 411 (sw)\",\"peugeot 504 (sw)\",\"renault 12 (sw)\",\"ford pinto (sw)\",\"datsun 510 (sw)\",\"toyouta corona mark ii (sw)\",\"dodge colt (sw)\",\"toyota corolla 1600 (sw)\",\"buick century 350\",\"amc matador\",\"chevrolet malibu\",\"ford gran torino\",\"dodge coronet custom\",\"mercury marquis brougham\",\"chevrolet caprice classic\",\"ford ltd\",\"plymouth fury gran sedan\",\"chrysler new yorker brougham\",\"buick electra 225 custom\",\"amc ambassador brougham\",\"plymouth valiant\",\"chevrolet nova custom\",\"amc hornet\",\"ford maverick\",\"plymouth duster\",\"volkswagen super beetle\",\"chevrolet impala\",\"ford country\",\"plymouth custom suburb\",\"oldsmobile vista cruiser\",\"amc gremlin\",\"toyota carina\",\"chevrolet vega\",\"datsun 610\",\"maxda rx3\",\"ford pinto\",\"mercury capri v6\",\"fiat 124 sport coupe\",\"chevrolet monte carlo s\",\"pontiac grand prix\",\"fiat 128\",\"opel manta\",\"audi 100ls\",\"volvo 144ea\",\"dodge dart custom\",\"saab 99le\",\"toyota mark ii\",\"oldsmobile omega\",\"plymouth duster\",\"amc hornet\",\"chevrolet nova\",\"datsun b210\",\"ford pinto\",\"toyota corolla 1200\",\"chevrolet vega\",\"chevrolet chevelle malibu classic\",\"amc matador\",\"plymouth satellite sebring\",\"ford gran torino\",\"buick century luxus (sw)\",\"dodge coronet custom (sw)\",\"ford gran torino (sw)\",\"amc matador (sw)\",\"audi fox\",\"volkswagen dasher\",\"opel manta\",\"toyota corona\",\"datsun 710\",\"dodge colt\",\"fiat 128\",\"fiat 124 tc\",\"honda civic\",\"subaru\",\"fiat x1.9\",\"plymouth valiant custom\",\"chevrolet nova\",\"mercury monarch\",\"ford maverick\",\"pontiac catalina\",\"chevrolet bel air\",\"plymouth grand fury\",\"ford ltd\",\"buick century\",\"chevroelt chevelle malibu\",\"amc matador\",\"plymouth fury\",\"buick skyhawk\",\"chevrolet monza 2+2\",\"ford mustang ii\",\"toyota corolla\",\"ford pinto\",\"amc gremlin\",\"pontiac astro\",\"toyota corona\",\"volkswagen dasher\",\"datsun 710\",\"ford pinto\",\"volkswagen rabbit\",\"amc pacer\",\"audi 100ls\",\"peugeot 504\",\"volvo 244dl\",\"saab 99le\",\"honda civic cvcc\",\"fiat 131\",\"opel 1900\",\"capri ii\",\"dodge colt\",\"renault 12tl\",\"chevrolet chevelle malibu classic\",\"dodge coronet brougham\",\"amc matador\",\"ford gran torino\",\"plymouth valiant\",\"chevrolet nova\",\"ford maverick\",\"amc hornet\",\"chevrolet chevette\",\"chevrolet woody\",\"vw rabbit\",\"honda civic\",\"dodge aspen se\",\"ford granada ghia\",\"pontiac ventura sj\",\"amc pacer d/l\",\"volkswagen rabbit\",\"datsun b-210\",\"toyota corolla\",\"ford pinto\",\"volvo 245\",\"plymouth volare premier v8\",\"peugeot 504\",\"toyota mark ii\",\"mercedes-benz 280s\",\"cadillac seville\",\"chevy c10\",\"ford f108\",\"dodge d100\",\"honda accord cvcc\",\"buick opel isuzu deluxe\",\"renault 5 gtl\",\"plymouth arrow gs\",\"datsun f-10 hatchback\",\"chevrolet caprice classic\",\"oldsmobile cutlass supreme\",\"dodge monaco brougham\",\"mercury cougar brougham\",\"chevrolet concours\",\"buick skylark\",\"plymouth volare custom\",\"ford granada\",\"pontiac grand prix lj\",\"chevrolet monte carlo landau\",\"chrysler cordoba\",\"ford thunderbird\",\"volkswagen rabbit custom\",\"pontiac sunbird coupe\",\"toyota corolla liftback\",\"ford mustang ii 2+2\",\"chevrolet chevette\",\"dodge colt m/m\",\"subaru dl\",\"volkswagen dasher\",\"datsun 810\",\"bmw 320i\",\"mazda rx-4\",\"volkswagen rabbit custom diesel\",\"ford fiesta\",\"mazda glc deluxe\",\"datsun b210 gx\",\"honda civic cvcc\",\"oldsmobile cutlass salon brougham\",\"dodge diplomat\",\"mercury monarch ghia\",\"pontiac phoenix lj\",\"chevrolet malibu\",\"ford fairmont (auto)\",\"ford fairmont (man)\",\"plymouth volare\",\"amc concord\",\"buick century special\",\"mercury zephyr\",\"dodge aspen\",\"amc concord d/l\",\"chevrolet monte carlo landau\",\"buick regal sport coupe (turbo)\",\"ford futura\",\"dodge magnum xe\",\"chevrolet chevette\",\"toyota corona\",\"datsun 510\",\"dodge omni\",\"toyota celica gt liftback\",\"plymouth sapporo\",\"oldsmobile starfire sx\",\"datsun 200-sx\",\"audi 5000\",\"volvo 264gl\",\"saab 99gle\",\"peugeot 604sl\",\"volkswagen scirocco\",\"honda accord lx\",\"pontiac lemans v6\",\"mercury zephyr 6\",\"ford fairmont 4\",\"amc concord dl 6\",\"dodge aspen 6\",\"chevrolet caprice classic\",\"ford ltd landau\",\"mercury grand marquis\",\"dodge st. regis\",\"buick estate wagon (sw)\",\"ford country squire (sw)\",\"chevrolet malibu classic (sw)\",\"chrysler lebaron town @ country (sw)\",\"vw rabbit custom\",\"maxda glc deluxe\",\"dodge colt hatchback custom\",\"amc spirit dl\",\"mercedes benz 300d\",\"cadillac eldorado\",\"peugeot 504\",\"oldsmobile cutlass salon brougham\",\"plymouth horizon\",\"plymouth horizon tc3\",\"datsun 210\",\"fiat strada custom\",\"buick skylark limited\",\"chevrolet citation\",\"oldsmobile omega brougham\",\"pontiac phoenix\",\"vw rabbit\",\"toyota corolla tercel\",\"chevrolet chevette\",\"datsun 310\",\"chevrolet citation\",\"ford fairmont\",\"amc concord\",\"dodge aspen\",\"audi 4000\",\"toyota corona liftback\",\"mazda 626\",\"datsun 510 hatchback\",\"toyota corolla\",\"mazda glc\",\"dodge colt\",\"datsun 210\",\"vw rabbit c (diesel)\",\"vw dasher (diesel)\",\"audi 5000s (diesel)\",\"mercedes-benz 240d\",\"honda civic 1500 gl\",\"subaru dl\",\"vokswagen rabbit\",\"datsun 280-zx\",\"mazda rx-7 gs\",\"triumph tr7 coupe\",\"honda accord\",\"plymouth reliant\",\"buick skylark\",\"dodge aries wagon (sw)\",\"chevrolet citation\",\"plymouth reliant\",\"toyota starlet\",\"plymouth champ\",\"honda civic 1300\",\"subaru\",\"datsun 210 mpg\",\"toyota tercel\",\"mazda glc 4\",\"plymouth horizon 4\",\"ford escort 4w\",\"ford escort 2h\",\"volkswagen jetta\",\"honda prelude\",\"toyota corolla\",\"datsun 200sx\",\"mazda 626\",\"peugeot 505s turbo diesel\",\"volvo diesel\",\"toyota cressida\",\"datsun 810 maxima\",\"buick century\",\"oldsmobile cutlass ls\",\"ford granada gl\",\"chrysler lebaron salon\",\"chevrolet cavalier\",\"chevrolet cavalier wagon\",\"chevrolet cavalier 2-door\",\"pontiac j2000 se hatchback\",\"dodge aries se\",\"pontiac phoenix\",\"ford fairmont futura\",\"volkswagen rabbit l\",\"mazda glc custom l\",\"mazda glc custom\",\"plymouth horizon miser\",\"mercury lynx l\",\"nissan stanza xe\",\"honda accord\",\"toyota corolla\",\"honda civic\",\"honda civic (auto)\",\"datsun 310 gx\",\"buick century limited\",\"oldsmobile cutlass ciera (diesel)\",\"chrysler lebaron medallion\",\"ford granada l\",\"toyota celica gt\",\"dodge charger 2.2\",\"chevrolet camaro\",\"ford mustang gl\",\"vw pickup\",\"dodge rampage\",\"ford ranger\",\"chevy s-10\"],\"origin\":[1,1,1,1,1,1,1,1,1,1,1,1,1,1,3,1,1,1,3,2,2,2,2,2,1,1,1,1,1,3,1,3,1,1,1,1,1,1,1,1,1,1,1,1,1,1,1,1,1,2,2,2,3,3,2,1,3,1,2,1,1,1,1,1,1,1,1,1,1,1,3,1,1,1,1,2,2,2,2,1,3,3,1,3,1,1,1,1,1,1,1,1,1,1,1,1,1,1,1,1,1,2,1,1,1,1,1,3,1,3,3,1,1,2,1,1,2,2,2,2,1,2,3,1,1,1,1,3,1,3,1,1,1,1,1,1,1,1,1,2,2,2,3,3,1,2,2,3,3,2,1,1,1,1,1,1,1,1,1,1,1,1,1,1,1,3,1,1,1,3,2,3,1,2,1,2,2,2,2,3,2,2,1,1,2,1,1,1,1,1,1,1,1,1,1,2,3,1,1,1,1,2,3,3,1,2,1,2,3,2,1,1,1,1,3,1,2,1,3,1,1,1,1,1,1,1,1,1,1,1,1,2,1,3,1,1,1,3,2,3,2,3,2,1,3,3,3,1,1,1,1,1,1,1,1,1,1,1,1,1,1,1,1,1,1,3,3,1,3,1,1,3,2,2,2,2,2,3,1,1,1,1,1,1,1,1,1,1,1,1,1,2,3,1,1,2,1,2,1,1,1,3,2,1,1,1,1,2,3,1,3,1,1,1,1,2,3,3,3,3,3,1,3,2,2,2,2,3,3,2,3,3,2,3,1,1,1,1,1,3,1,3,3,3,3,3,1,1,1,2,3,3,3,3,2,2,3,3,1,1,1,1,1,1,1,1,1,1,1,2,3,3,1,1,3,3,3,3,3,3,1,1,1,1,3,1,1,1,2,1,1,1],\"weight\":[3504,3693,3436,3433,3449,4341,4354,4312,4425,3850,3563,3609,3761,3086,2372,2833,2774,2587,2130,1835,2672,2430,2375,2234,2648,4615,4376,4382,4732,2130,2264,2228,2634,3439,3329,3302,3288,4209,4464,4154,4096,4955,4746,5140,2962,2408,3282,3139,2220,2123,2074,2065,1773,1613,1834,1955,2278,2126,2254,2408,2226,4274,4385,4135,4129,3672,4633,4502,4456,4422,2330,3892,4098,4294,4077,2933,2511,2979,2189,2395,2288,2506,2164,2100,4100,3672,3988,4042,3777,4952,4464,4363,4237,4735,4951,3821,3121,3278,2945,3021,2904,1950,4997,4906,4654,4499,2789,2279,2401,2379,2124,2310,2472,2265,4082,4278,1867,2158,2582,2868,3399,2660,2807,3664,3102,2901,3336,1950,2451,1836,2542,3781,3632,3613,4141,4699,4457,4638,4257,2219,1963,2300,1649,2003,2125,2108,2246,2489,2391,2000,3264,3459,3432,3158,4668,4440,4498,4657,3907,3897,3730,3785,3039,3221,3169,2171,2639,2914,2592,2702,2223,2545,2984,1937,3211,2694,2957,2945,2671,1795,2464,2220,2572,2255,2202,4215,4190,3962,4215,3233,3353,3012,3085,2035,2164,1937,1795,3651,3574,3645,3193,1825,1990,2155,2565,3150,3940,3270,2930,3820,4380,4055,3870,3755,2045,2155,1825,2300,1945,3880,4060,4140,4295,3520,3425,3630,3525,4220,4165,4325,4335,1940,2740,2265,2755,2051,2075,1985,2190,2815,2600,2720,1985,1800,1985,2070,1800,3365,3735,3570,3535,3155,2965,2720,3430,3210,3380,3070,3620,3410,3425,3445,3205,4080,2155,2560,2300,2230,2515,2745,2855,2405,2830,3140,2795,3410,1990,2135,3245,2990,2890,3265,3360,3840,3725,3955,3830,4360,4054,3605,3940,1925,1975,1915,2670,3530,3900,3190,3420,2200,2150,2020,2130,2670,2595,2700,2556,2144,1968,2120,2019,2678,2870,3003,3381,2188,2711,2542,2434,2265,2110,2800,2110,2085,2335,2950,3250,1850,2145,1845,2910,2420,2500,2290,2490,2635,2620,2725,2385,1755,1875,1760,2065,1975,2050,1985,2215,2045,2380,2190,2210,2350,2615,2635,3230,3160,2900,2930,3415,3725,3060,3465,2605,2640,2395,2575,2525,2735,2865,1980,2025,1970,2125,2125,2160,2205,2245,1965,1965,1995,2945,3015,2585,2835,2665,2370,2950,2790,2130,2295,2625,2720],\"yr\":[70,70,70,70,70,70,70,70,70,70,70,70,70,70,70,70,70,70,70,70,70,70,70,70,70,70,70,70,70,71,71,71,71,71,71,71,71,71,71,71,71,71,71,71,71,71,71,71,71,71,71,71,71,71,71,71,72,72,72,72,72,72,72,72,72,72,72,72,72,72,72,72,72,72,72,72,72,72,72,72,72,72,72,72,73,73,73,73,73,73,73,73,73,73,73,73,73,73,73,73,73,73,73,73,73,73,73,73,73,73,73,73,73,73,73,73,73,73,73,73,73,73,73,73,74,74,74,74,74,74,74,74,74,74,74,74,74,74,74,74,74,74,74,74,74,74,74,74,74,74,75,75,75,75,75,75,75,75,75,75,75,75,75,75,75,75,75,75,75,75,75,75,75,75,75,75,75,75,75,75,76,76,76,76,76,76,76,76,76,76,76,76,76,76,76,76,76,76,76,76,76,76,76,76,76,76,76,76,76,76,76,76,76,76,77,77,77,77,77,77,77,77,77,77,77,77,77,77,77,77,77,77,77,77,77,77,77,77,77,77,77,77,78,78,78,78,78,78,78,78,78,78,78,78,78,78,78,78,78,78,78,78,78,78,78,78,78,78,78,78,78,78,78,78,78,78,78,78,79,79,79,79,79,79,79,79,79,79,79,79,79,79,79,79,79,79,79,79,79,79,79,79,79,79,79,79,79,80,80,80,80,80,80,80,80,80,80,80,80,80,80,80,80,80,80,80,80,80,80,80,80,80,80,80,81,81,81,81,81,81,81,81,81,81,81,81,81,81,81,81,81,81,81,81,81,81,81,81,81,81,81,81,82,82,82,82,82,82,82,82,82,82,82,82,82,82,82,82,82,82,82,82,82,82,82,82,82,82,82,82,82,82]}},\"id\":\"733f9ff0-d37f-455b-8122-70b695daaa0c\",\"type\":\"ColumnDataSource\"},{\"attributes\":{\"source\":{\"id\":\"733f9ff0-d37f-455b-8122-70b695daaa0c\",\"type\":\"ColumnDataSource\"}},\"id\":\"8aab6134-2a90-4071-a31c-3bcfccd5c72f\",\"type\":\"CDSView\"},{\"attributes\":{},\"id\":\"28fd0c2b-4c34-4aa3-b94a-6b6ad2cc911d\",\"type\":\"WheelZoomTool\"},{\"attributes\":{\"below\":[{\"id\":\"7647493e-b74d-4f83-babc-19b1f37bcf9b\",\"type\":\"LinearAxis\"}],\"left\":[{\"id\":\"8ec03f37-dd74-491e-a391-82fe7da349be\",\"type\":\"LinearAxis\"}],\"plot_height\":300,\"plot_width\":300,\"renderers\":[{\"id\":\"7647493e-b74d-4f83-babc-19b1f37bcf9b\",\"type\":\"LinearAxis\"},{\"id\":\"1731a4e9-adf7-4d6f-aa92-1990b805ba5f\",\"type\":\"Grid\"},{\"id\":\"8ec03f37-dd74-491e-a391-82fe7da349be\",\"type\":\"LinearAxis\"},{\"id\":\"065b4e09-1670-441e-9f22-ee00267bb1d5\",\"type\":\"Grid\"},{\"id\":\"da107421-aee4-4a91-816e-4fd86c45b617\",\"type\":\"BoxAnnotation\"},{\"id\":\"632a616b-5d26-4046-9133-68f6f3edf2a7\",\"type\":\"GlyphRenderer\"}],\"title\":{\"id\":\"9d66b9a6-30e0-491f-9d3a-ed9cc35ae4d0\",\"type\":\"Title\"},\"toolbar\":{\"id\":\"cc5d0795-9005-4f4f-b64f-3a26e2b7ca72\",\"type\":\"Toolbar\"},\"toolbar_location\":null,\"x_range\":{\"id\":\"7030053c-1730-4f63-b5ff-e8c9f0f578bf\",\"type\":\"DataRange1d\"},\"x_scale\":{\"id\":\"6c2698a9-f056-4cbe-a331-3c25ae472ef6\",\"type\":\"LinearScale\"},\"y_range\":{\"id\":\"4e4ac92b-6976-4f67-8114-60c12e483fd1\",\"type\":\"DataRange1d\"},\"y_scale\":{\"id\":\"a657f2d8-c39d-4540-8169-4232c2c71e1c\",\"type\":\"LinearScale\"}},\"id\":\"43c34e60-51ff-413b-af7f-bc6c32f91225\",\"subtype\":\"Figure\",\"type\":\"Plot\"},{\"attributes\":{\"overlay\":{\"id\":\"38031fb6-0d32-4e5e-9798-b792d7ea2459\",\"type\":\"BoxAnnotation\"}},\"id\":\"181bbdaf-6235-4373-8eed-24c207638ce0\",\"type\":\"BoxZoomTool\"},{\"attributes\":{\"active_drag\":\"auto\",\"active_inspect\":\"auto\",\"active_scroll\":\"auto\",\"active_tap\":\"auto\",\"tools\":[{\"id\":\"07ca1f11-34bb-4112-bd56-82315eb6f858\",\"type\":\"PanTool\"},{\"id\":\"73798a77-7e6e-451a-92a5-17a0baa48b8d\",\"type\":\"WheelZoomTool\"},{\"id\":\"5903666d-c5dc-435c-a8af-e97ad76d12ff\",\"type\":\"BoxZoomTool\"},{\"id\":\"3e33a691-05f0-4edc-bfe5-bf8b268b9d5e\",\"type\":\"SaveTool\"},{\"id\":\"62f00ae9-2bbb-498c-ae1c-825764c909a3\",\"type\":\"ResetTool\"},{\"id\":\"1f777b00-0c29-41b1-96d9-d7e5081b1cb2\",\"type\":\"HelpTool\"}]},\"id\":\"cc5d0795-9005-4f4f-b64f-3a26e2b7ca72\",\"type\":\"Toolbar\"},{\"attributes\":{},\"id\":\"cea68b07-932e-4c40-bdb0-4162f33a9092\",\"type\":\"SaveTool\"},{\"attributes\":{\"fill_color\":{\"value\":\"blue\"},\"line_color\":{\"value\":\"blue\"},\"x\":{\"field\":\"yr\"},\"y\":{\"field\":\"mpg\"}},\"id\":\"08baaf74-63e9-437b-b3a2-86d5f4e356b0\",\"type\":\"Circle\"},{\"attributes\":{},\"id\":\"568167b3-7c6b-41fd-ba9b-b1ed59039405\",\"type\":\"ResetTool\"},{\"attributes\":{\"formatter\":{\"id\":\"4462d5e3-3158-42fb-ba54-51c88eb51303\",\"type\":\"BasicTickFormatter\"},\"plot\":{\"id\":\"43c34e60-51ff-413b-af7f-bc6c32f91225\",\"subtype\":\"Figure\",\"type\":\"Plot\"},\"ticker\":{\"id\":\"52c83328-f675-4e77-a9d4-cf712fc025fe\",\"type\":\"BasicTicker\"}},\"id\":\"8ec03f37-dd74-491e-a391-82fe7da349be\",\"type\":\"LinearAxis\"},{\"attributes\":{},\"id\":\"77c1af05-ab26-4fdf-8399-d823deaee930\",\"type\":\"HelpTool\"},{\"attributes\":{},\"id\":\"2011b295-c472-4bb2-9ab2-6d5fd5ea13f9\",\"type\":\"BasicTicker\"},{\"attributes\":{\"toolbar\":{\"id\":\"6572bf06-83a3-42fd-9e60-81c082c81728\",\"type\":\"ProxyToolbar\"},\"toolbar_location\":\"above\"},\"id\":\"7e1ddcb4-0125-4f43-b29e-e8da3321a63e\",\"type\":\"ToolbarBox\"},{\"attributes\":{\"formatter\":{\"id\":\"689f9b7e-bd77-4a0f-82cd-6db13853b579\",\"type\":\"BasicTickFormatter\"},\"plot\":{\"id\":\"43c34e60-51ff-413b-af7f-bc6c32f91225\",\"subtype\":\"Figure\",\"type\":\"Plot\"},\"ticker\":{\"id\":\"2011b295-c472-4bb2-9ab2-6d5fd5ea13f9\",\"type\":\"BasicTicker\"}},\"id\":\"7647493e-b74d-4f83-babc-19b1f37bcf9b\",\"type\":\"LinearAxis\"},{\"attributes\":{\"plot\":{\"id\":\"43c34e60-51ff-413b-af7f-bc6c32f91225\",\"subtype\":\"Figure\",\"type\":\"Plot\"},\"ticker\":{\"id\":\"2011b295-c472-4bb2-9ab2-6d5fd5ea13f9\",\"type\":\"BasicTicker\"}},\"id\":\"1731a4e9-adf7-4d6f-aa92-1990b805ba5f\",\"type\":\"Grid\"},{\"attributes\":{},\"id\":\"d136f354-62f9-4676-86d9-3532e69127cc\",\"type\":\"BasicTickFormatter\"},{\"attributes\":{},\"id\":\"a657f2d8-c39d-4540-8169-4232c2c71e1c\",\"type\":\"LinearScale\"},{\"attributes\":{\"callback\":null},\"id\":\"4e4ac92b-6976-4f67-8114-60c12e483fd1\",\"type\":\"DataRange1d\"},{\"attributes\":{},\"id\":\"6c2698a9-f056-4cbe-a331-3c25ae472ef6\",\"type\":\"LinearScale\"},{\"attributes\":{\"callback\":null},\"id\":\"7030053c-1730-4f63-b5ff-e8c9f0f578bf\",\"type\":\"DataRange1d\"},{\"attributes\":{\"plot\":null,\"text\":\"MPG by Year\"},\"id\":\"9d66b9a6-30e0-491f-9d3a-ed9cc35ae4d0\",\"type\":\"Title\"},{\"attributes\":{\"children\":[{\"id\":\"16a1c5ce-6ead-4c43-8af3-03b77c593120\",\"type\":\"Row\"}]},\"id\":\"72e1a087-a827-49ff-af65-7ef8fc0c8bec\",\"type\":\"Column\"},{\"attributes\":{\"children\":[{\"id\":\"7e1ddcb4-0125-4f43-b29e-e8da3321a63e\",\"type\":\"ToolbarBox\"},{\"id\":\"72e1a087-a827-49ff-af65-7ef8fc0c8bec\",\"type\":\"Column\"}]},\"id\":\"903b0ff1-df1b-47db-9d78-0afb6f210894\",\"type\":\"Column\"},{\"attributes\":{},\"id\":\"52c83328-f675-4e77-a9d4-cf712fc025fe\",\"type\":\"BasicTicker\"},{\"attributes\":{\"dimension\":1,\"plot\":{\"id\":\"43c34e60-51ff-413b-af7f-bc6c32f91225\",\"subtype\":\"Figure\",\"type\":\"Plot\"},\"ticker\":{\"id\":\"52c83328-f675-4e77-a9d4-cf712fc025fe\",\"type\":\"BasicTicker\"}},\"id\":\"065b4e09-1670-441e-9f22-ee00267bb1d5\",\"type\":\"Grid\"},{\"attributes\":{\"tools\":[{\"id\":\"07ca1f11-34bb-4112-bd56-82315eb6f858\",\"type\":\"PanTool\"},{\"id\":\"73798a77-7e6e-451a-92a5-17a0baa48b8d\",\"type\":\"WheelZoomTool\"},{\"id\":\"5903666d-c5dc-435c-a8af-e97ad76d12ff\",\"type\":\"BoxZoomTool\"},{\"id\":\"3e33a691-05f0-4edc-bfe5-bf8b268b9d5e\",\"type\":\"SaveTool\"},{\"id\":\"62f00ae9-2bbb-498c-ae1c-825764c909a3\",\"type\":\"ResetTool\"},{\"id\":\"1f777b00-0c29-41b1-96d9-d7e5081b1cb2\",\"type\":\"HelpTool\"},{\"id\":\"c48acaf4-e7a8-4fc2-a8ab-4df82bed94c1\",\"type\":\"PanTool\"},{\"id\":\"e7038835-fb8b-467d-91df-e896e96a58e4\",\"type\":\"WheelZoomTool\"},{\"id\":\"4e55f498-74d2-4445-b8bc-6fd8c5357da6\",\"type\":\"BoxZoomTool\"},{\"id\":\"0a8d232b-e5a4-42e6-b560-97924e38b440\",\"type\":\"SaveTool\"},{\"id\":\"a364f7bf-1562-4272-8e8f-1fa733b6c3bd\",\"type\":\"ResetTool\"},{\"id\":\"5efc43b1-cf25-4640-9527-b4b3b9cd8765\",\"type\":\"HelpTool\"},{\"id\":\"1eef3fba-5c12-419c-8134-a5b8c11f8c3a\",\"type\":\"PanTool\"},{\"id\":\"28fd0c2b-4c34-4aa3-b94a-6b6ad2cc911d\",\"type\":\"WheelZoomTool\"},{\"id\":\"181bbdaf-6235-4373-8eed-24c207638ce0\",\"type\":\"BoxZoomTool\"},{\"id\":\"cea68b07-932e-4c40-bdb0-4162f33a9092\",\"type\":\"SaveTool\"},{\"id\":\"568167b3-7c6b-41fd-ba9b-b1ed59039405\",\"type\":\"ResetTool\"},{\"id\":\"77c1af05-ab26-4fdf-8399-d823deaee930\",\"type\":\"HelpTool\"}]},\"id\":\"6572bf06-83a3-42fd-9e60-81c082c81728\",\"type\":\"ProxyToolbar\"},{\"attributes\":{\"fill_alpha\":{\"value\":0.1},\"fill_color\":{\"value\":\"#1f77b4\"},\"line_alpha\":{\"value\":0.1},\"line_color\":{\"value\":\"#1f77b4\"},\"x\":{\"field\":\"yr\"},\"y\":{\"field\":\"mpg\"}},\"id\":\"ab022c32-06f3-4a9b-b4be-c419c9d3ae32\",\"type\":\"Circle\"},{\"attributes\":{\"below\":[{\"id\":\"185d6312-2c0f-42eb-90b1-c4be40223dc2\",\"type\":\"LinearAxis\"}],\"left\":[{\"id\":\"add23218-0f64-43d8-bc93-f64aaa9e46a1\",\"type\":\"LinearAxis\"}],\"plot_height\":300,\"plot_width\":300,\"renderers\":[{\"id\":\"185d6312-2c0f-42eb-90b1-c4be40223dc2\",\"type\":\"LinearAxis\"},{\"id\":\"b74f7b2a-ebe5-41af-a244-feeadfb63670\",\"type\":\"Grid\"},{\"id\":\"add23218-0f64-43d8-bc93-f64aaa9e46a1\",\"type\":\"LinearAxis\"},{\"id\":\"b0d85ddf-daf4-4ed7-af5e-6001773a3898\",\"type\":\"Grid\"},{\"id\":\"cfc52ef7-67ad-4f7e-8e0c-7cad9426bc58\",\"type\":\"BoxAnnotation\"},{\"id\":\"d9085895-f1d1-4b0c-bce1-25b940b6298f\",\"type\":\"GlyphRenderer\"}],\"title\":{\"id\":\"21a90fb6-4e68-48e9-8a69-9ded8015d7b6\",\"type\":\"Title\"},\"toolbar\":{\"id\":\"68502ee9-061d-48e5-9d52-6c32547e312e\",\"type\":\"Toolbar\"},\"toolbar_location\":null,\"x_range\":{\"id\":\"88f86c43-754b-4306-83d3-e8a95ce716d2\",\"type\":\"DataRange1d\"},\"x_scale\":{\"id\":\"a2c8e46b-37ec-45d5-b7c8-f20feb003b57\",\"type\":\"LinearScale\"},\"y_range\":{\"id\":\"1c7711a6-76ab-415d-abf4-f7e651e9d079\",\"type\":\"DataRange1d\"},\"y_scale\":{\"id\":\"3f91873d-3e68-4b6d-9b2c-1aef4d5ff63d\",\"type\":\"LinearScale\"}},\"id\":\"543aea97-7d56-45aa-b3e5-fd26973af3b2\",\"subtype\":\"Figure\",\"type\":\"Plot\"},{\"attributes\":{\"data_source\":{\"id\":\"733f9ff0-d37f-455b-8122-70b695daaa0c\",\"type\":\"ColumnDataSource\"},\"glyph\":{\"id\":\"5bca556d-5ece-492c-a21b-cedf45d7f3a7\",\"type\":\"Circle\"},\"hover_glyph\":null,\"muted_glyph\":null,\"nonselection_glyph\":{\"id\":\"dbf8daf9-b2e8-457d-979a-92bd792977e5\",\"type\":\"Circle\"},\"selection_glyph\":null,\"view\":{\"id\":\"46954732-eaaa-4cd3-9128-cacf97dad26f\",\"type\":\"CDSView\"}},\"id\":\"d9085895-f1d1-4b0c-bce1-25b940b6298f\",\"type\":\"GlyphRenderer\"},{\"attributes\":{\"bottom_units\":\"screen\",\"fill_alpha\":{\"value\":0.5},\"fill_color\":{\"value\":\"lightgrey\"},\"left_units\":\"screen\",\"level\":\"overlay\",\"line_alpha\":{\"value\":1.0},\"line_color\":{\"value\":\"black\"},\"line_dash\":[4,4],\"line_width\":{\"value\":2},\"plot\":null,\"render_mode\":\"css\",\"right_units\":\"screen\",\"top_units\":\"screen\"},\"id\":\"da107421-aee4-4a91-816e-4fd86c45b617\",\"type\":\"BoxAnnotation\"},{\"attributes\":{},\"id\":\"07ca1f11-34bb-4112-bd56-82315eb6f858\",\"type\":\"PanTool\"},{\"attributes\":{\"source\":{\"id\":\"733f9ff0-d37f-455b-8122-70b695daaa0c\",\"type\":\"ColumnDataSource\"}},\"id\":\"a279c73c-c528-4c24-9177-fa3f45b63c42\",\"type\":\"CDSView\"},{\"attributes\":{},\"id\":\"73798a77-7e6e-451a-92a5-17a0baa48b8d\",\"type\":\"WheelZoomTool\"},{\"attributes\":{\"overlay\":{\"id\":\"da107421-aee4-4a91-816e-4fd86c45b617\",\"type\":\"BoxAnnotation\"}},\"id\":\"5903666d-c5dc-435c-a8af-e97ad76d12ff\",\"type\":\"BoxZoomTool\"},{\"attributes\":{},\"id\":\"3e33a691-05f0-4edc-bfe5-bf8b268b9d5e\",\"type\":\"SaveTool\"},{\"attributes\":{},\"id\":\"62f00ae9-2bbb-498c-ae1c-825764c909a3\",\"type\":\"ResetTool\"},{\"attributes\":{},\"id\":\"1f777b00-0c29-41b1-96d9-d7e5081b1cb2\",\"type\":\"HelpTool\"},{\"attributes\":{\"callback\":null},\"id\":\"88f86c43-754b-4306-83d3-e8a95ce716d2\",\"type\":\"DataRange1d\"},{\"attributes\":{\"plot\":null,\"text\":\"HP vs. Displacement\"},\"id\":\"21a90fb6-4e68-48e9-8a69-9ded8015d7b6\",\"type\":\"Title\"},{\"attributes\":{},\"id\":\"689f9b7e-bd77-4a0f-82cd-6db13853b579\",\"type\":\"BasicTickFormatter\"},{\"attributes\":{\"active_drag\":\"auto\",\"active_inspect\":\"auto\",\"active_scroll\":\"auto\",\"active_tap\":\"auto\",\"tools\":[{\"id\":\"c48acaf4-e7a8-4fc2-a8ab-4df82bed94c1\",\"type\":\"PanTool\"},{\"id\":\"e7038835-fb8b-467d-91df-e896e96a58e4\",\"type\":\"WheelZoomTool\"},{\"id\":\"4e55f498-74d2-4445-b8bc-6fd8c5357da6\",\"type\":\"BoxZoomTool\"},{\"id\":\"0a8d232b-e5a4-42e6-b560-97924e38b440\",\"type\":\"SaveTool\"},{\"id\":\"a364f7bf-1562-4272-8e8f-1fa733b6c3bd\",\"type\":\"ResetTool\"},{\"id\":\"5efc43b1-cf25-4640-9527-b4b3b9cd8765\",\"type\":\"HelpTool\"}]},\"id\":\"68502ee9-061d-48e5-9d52-6c32547e312e\",\"type\":\"Toolbar\"},{\"attributes\":{\"fill_color\":{\"value\":null},\"line_color\":{\"value\":\"red\"},\"size\":{\"field\":\"cyl\",\"units\":\"screen\"},\"x\":{\"field\":\"mpg\"},\"y\":{\"field\":\"displ\"}},\"id\":\"3fffee3d-b6ba-4bf5-8d64-6dc6c26e22a5\",\"type\":\"Circle\"},{\"attributes\":{},\"id\":\"3f91873d-3e68-4b6d-9b2c-1aef4d5ff63d\",\"type\":\"LinearScale\"},{\"attributes\":{\"callback\":null},\"id\":\"1c7711a6-76ab-415d-abf4-f7e651e9d079\",\"type\":\"DataRange1d\"},{\"attributes\":{\"fill_color\":{\"value\":\"green\"},\"line_color\":{\"value\":\"green\"},\"x\":{\"field\":\"hp\"},\"y\":{\"field\":\"displ\"}},\"id\":\"5bca556d-5ece-492c-a21b-cedf45d7f3a7\",\"type\":\"Circle\"},{\"attributes\":{},\"id\":\"a2c8e46b-37ec-45d5-b7c8-f20feb003b57\",\"type\":\"LinearScale\"},{\"attributes\":{\"plot\":{\"id\":\"543aea97-7d56-45aa-b3e5-fd26973af3b2\",\"subtype\":\"Figure\",\"type\":\"Plot\"},\"ticker\":{\"id\":\"ef4529b1-3451-4bdd-8212-018835e939ae\",\"type\":\"BasicTicker\"}},\"id\":\"b74f7b2a-ebe5-41af-a244-feeadfb63670\",\"type\":\"Grid\"},{\"attributes\":{\"formatter\":{\"id\":\"66412294-0afc-45c4-ab6e-cd92ee528840\",\"type\":\"BasicTickFormatter\"},\"plot\":{\"id\":\"543aea97-7d56-45aa-b3e5-fd26973af3b2\",\"subtype\":\"Figure\",\"type\":\"Plot\"},\"ticker\":{\"id\":\"ef4529b1-3451-4bdd-8212-018835e939ae\",\"type\":\"BasicTicker\"}},\"id\":\"185d6312-2c0f-42eb-90b1-c4be40223dc2\",\"type\":\"LinearAxis\"},{\"attributes\":{},\"id\":\"ef4529b1-3451-4bdd-8212-018835e939ae\",\"type\":\"BasicTicker\"},{\"attributes\":{\"formatter\":{\"id\":\"8d04d743-a5ec-4522-ac1a-2278eb1433f5\",\"type\":\"BasicTickFormatter\"},\"plot\":{\"id\":\"543aea97-7d56-45aa-b3e5-fd26973af3b2\",\"subtype\":\"Figure\",\"type\":\"Plot\"},\"ticker\":{\"id\":\"5be616da-9a77-4a8e-9a04-0a4f558a9177\",\"type\":\"BasicTicker\"}},\"id\":\"add23218-0f64-43d8-bc93-f64aaa9e46a1\",\"type\":\"LinearAxis\"},{\"attributes\":{},\"id\":\"5be616da-9a77-4a8e-9a04-0a4f558a9177\",\"type\":\"BasicTicker\"},{\"attributes\":{\"dimension\":1,\"plot\":{\"id\":\"543aea97-7d56-45aa-b3e5-fd26973af3b2\",\"subtype\":\"Figure\",\"type\":\"Plot\"},\"ticker\":{\"id\":\"5be616da-9a77-4a8e-9a04-0a4f558a9177\",\"type\":\"BasicTicker\"}},\"id\":\"b0d85ddf-daf4-4ed7-af5e-6001773a3898\",\"type\":\"Grid\"},{\"attributes\":{\"fill_alpha\":{\"value\":0.1},\"fill_color\":{\"value\":\"#1f77b4\"},\"line_alpha\":{\"value\":0.1},\"line_color\":{\"value\":\"#1f77b4\"},\"x\":{\"field\":\"hp\"},\"y\":{\"field\":\"displ\"}},\"id\":\"dbf8daf9-b2e8-457d-979a-92bd792977e5\",\"type\":\"Circle\"},{\"attributes\":{\"below\":[{\"id\":\"bf3e3290-dac1-4012-8600-8a086c8fc667\",\"type\":\"LinearAxis\"}],\"left\":[{\"id\":\"13e6d892-2a17-4478-892b-73d8ff0ea196\",\"type\":\"LinearAxis\"}],\"plot_height\":300,\"plot_width\":300,\"renderers\":[{\"id\":\"bf3e3290-dac1-4012-8600-8a086c8fc667\",\"type\":\"LinearAxis\"},{\"id\":\"930d06d0-0e04-416a-ae31-9fc75dd4a7d2\",\"type\":\"Grid\"},{\"id\":\"13e6d892-2a17-4478-892b-73d8ff0ea196\",\"type\":\"LinearAxis\"},{\"id\":\"1e0cdb80-cf2f-48c2-a773-71d05ac8af7e\",\"type\":\"Grid\"},{\"id\":\"38031fb6-0d32-4e5e-9798-b792d7ea2459\",\"type\":\"BoxAnnotation\"},{\"id\":\"9d4d69fc-db6d-40eb-9e7a-91caa54050b5\",\"type\":\"GlyphRenderer\"}],\"title\":{\"id\":\"a3f261a3-7c04-4456-a9ae-646d09bd196a\",\"type\":\"Title\"},\"toolbar\":{\"id\":\"379e53ab-c023-472f-a79e-5861300b2669\",\"type\":\"Toolbar\"},\"toolbar_location\":null,\"x_range\":{\"id\":\"23b661e4-6855-4daa-b7c6-e8318acd82b2\",\"type\":\"DataRange1d\"},\"x_scale\":{\"id\":\"c28a76e8-4c39-4ab1-81c4-26cf0a6db761\",\"type\":\"LinearScale\"},\"y_range\":{\"id\":\"137ab882-6580-4fad-a38e-13692465232c\",\"type\":\"DataRange1d\"},\"y_scale\":{\"id\":\"ec3fd318-0f95-4198-a27a-43fa5ad32ae9\",\"type\":\"LinearScale\"}},\"id\":\"23e28d8b-b019-48d9-9ac1-a59009375805\",\"subtype\":\"Figure\",\"type\":\"Plot\"},{\"attributes\":{\"fill_alpha\":{\"value\":0.1},\"fill_color\":{\"value\":\"#1f77b4\"},\"line_alpha\":{\"value\":0.1},\"line_color\":{\"value\":\"#1f77b4\"},\"size\":{\"field\":\"cyl\",\"units\":\"screen\"},\"x\":{\"field\":\"mpg\"},\"y\":{\"field\":\"displ\"}},\"id\":\"a1c99af2-f2d6-4ff0-8938-a311dbca9a0f\",\"type\":\"Circle\"},{\"attributes\":{\"bottom_units\":\"screen\",\"fill_alpha\":{\"value\":0.5},\"fill_color\":{\"value\":\"lightgrey\"},\"left_units\":\"screen\",\"level\":\"overlay\",\"line_alpha\":{\"value\":1.0},\"line_color\":{\"value\":\"black\"},\"line_dash\":[4,4],\"line_width\":{\"value\":2},\"plot\":null,\"render_mode\":\"css\",\"right_units\":\"screen\",\"top_units\":\"screen\"},\"id\":\"cfc52ef7-67ad-4f7e-8e0c-7cad9426bc58\",\"type\":\"BoxAnnotation\"},{\"attributes\":{},\"id\":\"c48acaf4-e7a8-4fc2-a8ab-4df82bed94c1\",\"type\":\"PanTool\"},{\"attributes\":{\"source\":{\"id\":\"733f9ff0-d37f-455b-8122-70b695daaa0c\",\"type\":\"ColumnDataSource\"}},\"id\":\"46954732-eaaa-4cd3-9128-cacf97dad26f\",\"type\":\"CDSView\"},{\"attributes\":{},\"id\":\"e7038835-fb8b-467d-91df-e896e96a58e4\",\"type\":\"WheelZoomTool\"},{\"attributes\":{\"overlay\":{\"id\":\"cfc52ef7-67ad-4f7e-8e0c-7cad9426bc58\",\"type\":\"BoxAnnotation\"}},\"id\":\"4e55f498-74d2-4445-b8bc-6fd8c5357da6\",\"type\":\"BoxZoomTool\"},{\"attributes\":{},\"id\":\"0a8d232b-e5a4-42e6-b560-97924e38b440\",\"type\":\"SaveTool\"},{\"attributes\":{},\"id\":\"a364f7bf-1562-4272-8e8f-1fa733b6c3bd\",\"type\":\"ResetTool\"},{\"attributes\":{},\"id\":\"5efc43b1-cf25-4640-9527-b4b3b9cd8765\",\"type\":\"HelpTool\"},{\"attributes\":{\"data_source\":{\"id\":\"733f9ff0-d37f-455b-8122-70b695daaa0c\",\"type\":\"ColumnDataSource\"},\"glyph\":{\"id\":\"3fffee3d-b6ba-4bf5-8d64-6dc6c26e22a5\",\"type\":\"Circle\"},\"hover_glyph\":null,\"muted_glyph\":null,\"nonselection_glyph\":{\"id\":\"a1c99af2-f2d6-4ff0-8938-a311dbca9a0f\",\"type\":\"Circle\"},\"selection_glyph\":null,\"view\":{\"id\":\"8aab6134-2a90-4071-a31c-3bcfccd5c72f\",\"type\":\"CDSView\"}},\"id\":\"9d4d69fc-db6d-40eb-9e7a-91caa54050b5\",\"type\":\"GlyphRenderer\"},{\"attributes\":{\"plot\":null,\"text\":\"MPG vs. Displacement\"},\"id\":\"a3f261a3-7c04-4456-a9ae-646d09bd196a\",\"type\":\"Title\"},{\"attributes\":{},\"id\":\"66412294-0afc-45c4-ab6e-cd92ee528840\",\"type\":\"BasicTickFormatter\"}],\"root_ids\":[\"903b0ff1-df1b-47db-9d78-0afb6f210894\"]},\"title\":\"Bokeh Application\",\"version\":\"0.12.13\"}};\n",
       "  var render_items = [{\"docid\":\"45d5b41e-3831-4da0-8737-f1ff5b3b9851\",\"elementid\":\"8de1dd5e-48c3-454e-8528-29b824cf342d\",\"modelid\":\"903b0ff1-df1b-47db-9d78-0afb6f210894\"}];\n",
       "  root.Bokeh.embed.embed_items_notebook(docs_json, render_items);\n",
       "\n",
       "  }\n",
       "  if (root.Bokeh !== undefined) {\n",
       "    embed_document(root);\n",
       "  } else {\n",
       "    var attempts = 0;\n",
       "    var timer = setInterval(function(root) {\n",
       "      if (root.Bokeh !== undefined) {\n",
       "        embed_document(root);\n",
       "        clearInterval(timer);\n",
       "      }\n",
       "      attempts++;\n",
       "      if (attempts > 100) {\n",
       "        console.log(\"Bokeh: ERROR: Unable to run BokehJS code because BokehJS library is missing\")\n",
       "        clearInterval(timer);\n",
       "      }\n",
       "    }, 10, root)\n",
       "  }\n",
       "})(window);"
      ],
      "application/vnd.bokehjs_exec.v0+json": ""
     },
     "metadata": {
      "application/vnd.bokehjs_exec.v0+json": {
       "id": "903b0ff1-df1b-47db-9d78-0afb6f210894"
      }
     },
     "output_type": "display_data"
    }
   ],
   "source": [
    "from bokeh.models import ColumnDataSource\n",
    "from bokeh.layouts import gridplot\n",
    "\n",
    "source = ColumnDataSource(autompg)\n",
    "options = dict(plot_width = 300, plot_height = 300)\n",
    "\n",
    "\n",
    "p1 = figure(title=\"MPG by Year\", **options )\n",
    "p1.circle('yr', 'mpg', color = 'blue', source = source)\n",
    "\n",
    "p2 = figure(title=\"HP vs. Displacement\", **options)\n",
    "p2.circle('hp', 'displ', color = 'green', source = source)\n",
    "\n",
    "p3 = figure(title = \"MPG vs. Displacement\", **options)\n",
    "p3.circle('mpg', 'displ', size = 'cyl', line_color = 'red', fill_color = None, source = source)\n",
    "\n",
    "p = gridplot([[p1, p2, p3]])\n",
    "\n",
    "show(p)"
   ]
  },
  {
   "cell_type": "markdown",
   "metadata": {},
   "source": [
    "### Outputting HTML\n",
    "\n",
    "If we want to save our plot as a standalone `.html` file, we can use the `output_file` method and direct the output to an html file of our choice."
   ]
  },
  {
   "cell_type": "code",
   "execution_count": 12,
   "metadata": {
    "scrolled": true
   },
   "outputs": [
    {
     "data": {
      "text/html": [
       "\n",
       "<div class=\"bk-root\">\n",
       "    <div class=\"bk-plotdiv\" id=\"561e2176-aabe-4b1b-aa36-1ce6118db694\"></div>\n",
       "</div>"
      ]
     },
     "metadata": {},
     "output_type": "display_data"
    },
    {
     "data": {
      "application/javascript": [
       "(function(root) {\n",
       "  function embed_document(root) {\n",
       "    \n",
       "  var docs_json = {\"f8146413-7fa8-4bd6-aba7-d600141f1072\":{\"roots\":{\"references\":[{\"attributes\":{\"callback\":null},\"id\":\"aa198211-90a5-4be7-a82a-083f1dd2e05d\",\"type\":\"DataRange1d\"},{\"attributes\":{\"data_source\":{\"id\":\"f44dbdc8-a597-4db7-a270-588bf88020f4\",\"type\":\"ColumnDataSource\"},\"glyph\":{\"id\":\"9bf319da-39bc-4cf7-beae-470828e04f0b\",\"type\":\"Triangle\"},\"hover_glyph\":null,\"muted_glyph\":null,\"nonselection_glyph\":{\"id\":\"f8b45bd8-1650-42ce-8f7b-706d14aca4b1\",\"type\":\"Triangle\"},\"selection_glyph\":null,\"view\":{\"id\":\"dd1a5090-aa4d-4806-9793-fb60869155b1\",\"type\":\"CDSView\"}},\"id\":\"283ed061-4195-4eef-a306-9423e80ee02c\",\"type\":\"GlyphRenderer\"},{\"attributes\":{\"plot\":{\"id\":\"227e24a5-fb0e-479c-8a07-411bf17b012d\",\"subtype\":\"Figure\",\"type\":\"Plot\"},\"ticker\":{\"id\":\"edaf5843-74f5-410a-8b52-40debe09306b\",\"type\":\"BasicTicker\"}},\"id\":\"48baf82e-edc5-4cbd-bf29-7897feb90dd4\",\"type\":\"Grid\"},{\"attributes\":{},\"id\":\"9b2b4d50-e29a-4add-8843-e7cc802e31f3\",\"type\":\"LinearScale\"},{\"attributes\":{},\"id\":\"6297f981-9841-4842-9cc9-c79c40844a90\",\"type\":\"LinearScale\"},{\"attributes\":{},\"id\":\"f4e1853a-cfa5-499a-abf7-42d8376aa701\",\"type\":\"BasicTickFormatter\"},{\"attributes\":{\"bottom_units\":\"screen\",\"fill_alpha\":{\"value\":0.5},\"fill_color\":{\"value\":\"lightgrey\"},\"left_units\":\"screen\",\"level\":\"overlay\",\"line_alpha\":{\"value\":1.0},\"line_color\":{\"value\":\"black\"},\"line_dash\":[4,4],\"line_width\":{\"value\":2},\"plot\":null,\"render_mode\":\"css\",\"right_units\":\"screen\",\"top_units\":\"screen\"},\"id\":\"ee9eadef-f804-409f-88d7-67dc8f5bd78e\",\"type\":\"BoxAnnotation\"},{\"attributes\":{\"callback\":null,\"column_names\":[\"x\",\"y\"],\"data\":{\"x\":[70,70,71,71,71,71,72,72,72,72,72,73,73,73,73,74,74,74,74,74,74,75,75,75,75,76,76,76,76,77,77,77,77,77,77,78,78,78,78,78,78,78,78,79,79,80,80,80,80,80,80,80,80,80,80,80,80,80,81,81,81,81,81,81,81,81,81,81,81,81,82,82,82,82,82,82,82,82,82],\"y\":{\"__ndarray__\":\"AAAAAAAAOEAAAAAAAAA7QAAAAAAAADtAAAAAAAAAOUAAAAAAAAA/QAAAAAAAgEFAAAAAAAAAOEAAAAAAAAAzQAAAAAAAADxAAAAAAAAAN0AAAAAAAAA7QAAAAAAAADRAAAAAAAAANkAAAAAAAAAyQAAAAAAAADRAAAAAAAAAP0AAAAAAAABAQAAAAAAAAD9AAAAAAAAAQEAAAAAAAAA4QAAAAAAAADpAAAAAAAAAPUAAAAAAAAA4QAAAAAAAADhAAAAAAACAQEAAAAAAAIBAQAAAAAAAAEBAAAAAAAAAPEAAAAAAAAAzQAAAAAAAgD9AAAAAAADAQEAAAAAAAAA6QAAAAAAAAD5AAAAAAAAANkAAAAAAAIA1QGZmZmZmZkBAMzMzMzOzQ0DNzMzMzAxCQAAAAAAAgDtAMzMzMzMzO0CamZmZmRk1QGZmZmZm5jdAAAAAAACAPUDNzMzMzAxBQM3MzMzMzD9AzczMzMwMQ0CamZmZmZlCQM3MzMzMzD1AzczMzMxMP0AAAAAAAIBCQJqZmZmZGUBAzczMzMxMR0BmZmZmZmZEQM3MzMzMTEZAZmZmZmbmQECamZmZmVlAQDMzMzMzszdAMzMzMzMzQEDNzMzMzIxDQM3MzMzMjEFAZmZmZmYmQEAAAAAAAIBCQJqZmZmZ2UJAzczMzMwMQUCamZmZmdlAQDMzMzMzM0BAMzMzMzNzQECamZmZmZk/QGZmZmZmZjlAMzMzMzMzOEAAAAAAAIBCQAAAAAAAAD9AAAAAAAAAQkAAAAAAAABCQAAAAAAAAEFAAAAAAAAAQ0AAAAAAAABAQAAAAAAAAENAAAAAAAAAQEA=\",\"dtype\":\"float64\",\"shape\":[79]}}},\"id\":\"42e55c48-c775-4356-94e2-13580069aac2\",\"type\":\"ColumnDataSource\"},{\"attributes\":{\"callback\":null,\"column_names\":[\"x\",\"top\",\"bottom\"],\"data\":{\"bottom\":{\"__ndarray__\":\"gvFgx2qzKECcKci59t4sQJZdRzm5jipAzvVtn6zMKECki7kXNjswQIpnc6D2pi5ApAV4qVNeL0DtFQi6+rIwQBxLQL6+KTFAWBwW2YNMMkBnDzEy+Oo6QAq856zmjDhAfzfsSXnEOkA=\",\"dtype\":\"float64\",\"shape\":[13]},\"top\":{\"__ndarray__\":\"55jlF2UHN0DAzlQxaMk7QBEIyj5aJjhATTh849zMNUD6TNCFok49QMPUTjgNNTlA1KLp0Ht2O0AT6vdFBQ0+QNr+XjaL9T5AVt48aCfjP0AojYptQ1hEQPSsO6IX6UFAQOQJW8OdQkA=\",\"dtype\":\"float64\",\"shape\":[13]},\"x\":[70,71,72,73,74,75,76,77,78,79,80,81,82]}},\"id\":\"a3600c96-8450-4ca4-b4f5-7735de98fe47\",\"type\":\"ColumnDataSource\"},{\"attributes\":{\"bottom\":{\"field\":\"bottom\"},\"fill_alpha\":{\"value\":0.1},\"fill_color\":{\"value\":\"#1f77b4\"},\"line_alpha\":{\"value\":0.1},\"line_color\":{\"value\":\"#1f77b4\"},\"top\":{\"field\":\"top\"},\"width\":{\"value\":0.8},\"x\":{\"field\":\"x\"}},\"id\":\"0120303e-a968-47e0-a359-cc4f8957e5f7\",\"type\":\"VBar\"},{\"attributes\":{},\"id\":\"eb5b510d-c2fe-46d9-971c-d64fcd883b58\",\"type\":\"PanTool\"},{\"attributes\":{\"below\":[{\"id\":\"5328f404-ee4a-4624-a69b-4ca5429569fd\",\"type\":\"LinearAxis\"}],\"left\":[{\"id\":\"904a7c53-c957-407b-8c04-938b81ce3202\",\"type\":\"LinearAxis\"}],\"renderers\":[{\"id\":\"5328f404-ee4a-4624-a69b-4ca5429569fd\",\"type\":\"LinearAxis\"},{\"id\":\"48baf82e-edc5-4cbd-bf29-7897feb90dd4\",\"type\":\"Grid\"},{\"id\":\"904a7c53-c957-407b-8c04-938b81ce3202\",\"type\":\"LinearAxis\"},{\"id\":\"c7ac794c-bd3d-4c3d-bdc8-10875b6ea966\",\"type\":\"Grid\"},{\"id\":\"ee9eadef-f804-409f-88d7-67dc8f5bd78e\",\"type\":\"BoxAnnotation\"},{\"id\":\"1b79a017-8220-490d-b392-2573f5282ae6\",\"type\":\"Legend\"},{\"id\":\"4df70195-44ba-4ee8-a53f-976dc5890e8e\",\"type\":\"GlyphRenderer\"},{\"id\":\"ba8f39c6-3c99-4e6c-bbd3-2fcebe1388c1\",\"type\":\"GlyphRenderer\"},{\"id\":\"283ed061-4195-4eef-a306-9423e80ee02c\",\"type\":\"GlyphRenderer\"}],\"title\":{\"id\":\"f998f185-389d-43c1-bdfe-b2f2a04fc85b\",\"type\":\"Title\"},\"toolbar\":{\"id\":\"9e23c047-f1d0-424e-9d77-7408db291b12\",\"type\":\"Toolbar\"},\"x_range\":{\"id\":\"cc31d109-5348-4f2b-9fcd-6db578353649\",\"type\":\"DataRange1d\"},\"x_scale\":{\"id\":\"9b2b4d50-e29a-4add-8843-e7cc802e31f3\",\"type\":\"LinearScale\"},\"y_range\":{\"id\":\"aa198211-90a5-4be7-a82a-083f1dd2e05d\",\"type\":\"DataRange1d\"},\"y_scale\":{\"id\":\"6297f981-9841-4842-9cc9-c79c40844a90\",\"type\":\"LinearScale\"}},\"id\":\"227e24a5-fb0e-479c-8a07-411bf17b012d\",\"subtype\":\"Figure\",\"type\":\"Plot\"},{\"attributes\":{\"overlay\":{\"id\":\"ee9eadef-f804-409f-88d7-67dc8f5bd78e\",\"type\":\"BoxAnnotation\"}},\"id\":\"885a9200-229b-42aa-bd90-9a448d3ee290\",\"type\":\"BoxZoomTool\"},{\"attributes\":{},\"id\":\"5f3db6f8-cca0-46e6-8aa1-ae40485b568c\",\"type\":\"WheelZoomTool\"},{\"attributes\":{},\"id\":\"92ee98b4-7100-4ca7-9008-12b4b202b65f\",\"type\":\"BasicTickFormatter\"},{\"attributes\":{\"data_source\":{\"id\":\"a3600c96-8450-4ca4-b4f5-7735de98fe47\",\"type\":\"ColumnDataSource\"},\"glyph\":{\"id\":\"c9096473-8ff1-4ecf-83f2-d063b2e5e617\",\"type\":\"VBar\"},\"hover_glyph\":null,\"muted_glyph\":null,\"nonselection_glyph\":{\"id\":\"0120303e-a968-47e0-a359-cc4f8957e5f7\",\"type\":\"VBar\"},\"selection_glyph\":null,\"view\":{\"id\":\"0d0000a0-479b-4aee-b9ee-bea57030904e\",\"type\":\"CDSView\"}},\"id\":\"4df70195-44ba-4ee8-a53f-976dc5890e8e\",\"type\":\"GlyphRenderer\"},{\"attributes\":{\"fill_alpha\":{\"value\":0.3},\"fill_color\":{\"value\":\"blue\"},\"line_alpha\":{\"value\":0.3},\"line_color\":{\"value\":\"blue\"},\"size\":{\"units\":\"screen\",\"value\":10},\"x\":{\"field\":\"x\"},\"y\":{\"field\":\"y\"}},\"id\":\"9bf319da-39bc-4cf7-beae-470828e04f0b\",\"type\":\"Triangle\"},{\"attributes\":{},\"id\":\"40ecb050-dc23-473c-80f6-28d6ceff5660\",\"type\":\"HelpTool\"},{\"attributes\":{},\"id\":\"d997a19d-a6ac-4565-97eb-fd595a6f9228\",\"type\":\"ResetTool\"},{\"attributes\":{\"source\":{\"id\":\"a3600c96-8450-4ca4-b4f5-7735de98fe47\",\"type\":\"ColumnDataSource\"}},\"id\":\"0d0000a0-479b-4aee-b9ee-bea57030904e\",\"type\":\"CDSView\"},{\"attributes\":{\"callback\":null,\"column_names\":[\"x\",\"y\"],\"data\":{\"x\":[70,70,70,70,70,70,70,70,70,70,70,70,70,70,70,70,70,70,70,70,70,70,71,71,71,71,71,71,71,71,71,71,71,71,71,71,71,71,71,71,71,72,72,72,72,72,72,72,72,72,72,72,72,72,72,72,72,72,72,73,73,73,73,73,73,73,73,73,73,73,73,73,73,73,73,73,73,73,73,73,73,73,73,73,73,73,73,73,74,74,74,74,74,74,74,74,74,74,74,74,74,74,75,75,75,75,75,75,75,75,75,75,75,75,75,75,75,75,75,75,75,75,76,76,76,76,76,76,76,76,76,76,76,76,76,76,76,76,76,76,76,76,76,76,77,77,77,77,77,77,77,77,77,77,77,77,77,77,77,77,77,77,78,78,78,78,78,78,78,78,78,78,78,78,78,78,78,78,78,78,78,78,78,78,79,79,79,79,79,79,79,79,79,79,79,79,79,79,79,79,79,79,79,79,79,79,79,80,80,80,80,80,80,81,81,81,81,81,81,81,81,81,81,81,81,81,82,82,82,82,82,82,82,82,82,82,82,82,82,82,82,82,82,82,82],\"y\":{\"__ndarray__\":\"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\",\"dtype\":\"float64\",\"shape\":[245]}}},\"id\":\"f44dbdc8-a597-4db7-a270-588bf88020f4\",\"type\":\"ColumnDataSource\"},{\"attributes\":{\"fill_alpha\":{\"value\":0.1},\"fill_color\":{\"value\":\"#1f77b4\"},\"line_alpha\":{\"value\":0.1},\"line_color\":{\"value\":\"#1f77b4\"},\"size\":{\"units\":\"screen\",\"value\":10},\"x\":{\"field\":\"x\"},\"y\":{\"field\":\"y\"}},\"id\":\"29c48fa1-33b3-454e-8333-3e9cf40cb974\",\"type\":\"Circle\"},{\"attributes\":{\"label\":{\"value\":\"American\"},\"renderers\":[{\"id\":\"283ed061-4195-4eef-a306-9423e80ee02c\",\"type\":\"GlyphRenderer\"}]},\"id\":\"2a633db5-177e-476e-b53c-0f0cc29cb457\",\"type\":\"LegendItem\"},{\"attributes\":{\"items\":[{\"id\":\"3721cbef-1a03-4d84-a63d-f6bea09cc801\",\"type\":\"LegendItem\"},{\"id\":\"d996a941-9f23-46d0-8884-bd3a36368d05\",\"type\":\"LegendItem\"},{\"id\":\"2a633db5-177e-476e-b53c-0f0cc29cb457\",\"type\":\"LegendItem\"}],\"plot\":{\"id\":\"227e24a5-fb0e-479c-8a07-411bf17b012d\",\"subtype\":\"Figure\",\"type\":\"Plot\"}},\"id\":\"1b79a017-8220-490d-b392-2573f5282ae6\",\"type\":\"Legend\"},{\"attributes\":{\"fill_alpha\":{\"value\":0.5},\"fill_color\":{\"value\":\"red\"},\"line_alpha\":{\"value\":0.5},\"line_color\":{\"value\":\"red\"},\"size\":{\"units\":\"screen\",\"value\":10},\"x\":{\"field\":\"x\"},\"y\":{\"field\":\"y\"}},\"id\":\"2f220d66-fb1c-4f0e-b6ed-8631034e30eb\",\"type\":\"Circle\"},{\"attributes\":{\"plot\":null,\"text\":\"MPG by Year (Japan and US)\"},\"id\":\"f998f185-389d-43c1-bdfe-b2f2a04fc85b\",\"type\":\"Title\"},{\"attributes\":{\"label\":{\"value\":\"MPG 1 stddev\"},\"renderers\":[{\"id\":\"4df70195-44ba-4ee8-a53f-976dc5890e8e\",\"type\":\"GlyphRenderer\"}]},\"id\":\"3721cbef-1a03-4d84-a63d-f6bea09cc801\",\"type\":\"LegendItem\"},{\"attributes\":{},\"id\":\"71ba3e9f-8055-4490-9735-6b585e9eaad3\",\"type\":\"BasicTicker\"},{\"attributes\":{},\"id\":\"edaf5843-74f5-410a-8b52-40debe09306b\",\"type\":\"BasicTicker\"},{\"attributes\":{\"callback\":null},\"id\":\"cc31d109-5348-4f2b-9fcd-6db578353649\",\"type\":\"DataRange1d\"},{\"attributes\":{\"formatter\":{\"id\":\"92ee98b4-7100-4ca7-9008-12b4b202b65f\",\"type\":\"BasicTickFormatter\"},\"plot\":{\"id\":\"227e24a5-fb0e-479c-8a07-411bf17b012d\",\"subtype\":\"Figure\",\"type\":\"Plot\"},\"ticker\":{\"id\":\"71ba3e9f-8055-4490-9735-6b585e9eaad3\",\"type\":\"BasicTicker\"}},\"id\":\"904a7c53-c957-407b-8c04-938b81ce3202\",\"type\":\"LinearAxis\"},{\"attributes\":{\"data_source\":{\"id\":\"42e55c48-c775-4356-94e2-13580069aac2\",\"type\":\"ColumnDataSource\"},\"glyph\":{\"id\":\"2f220d66-fb1c-4f0e-b6ed-8631034e30eb\",\"type\":\"Circle\"},\"hover_glyph\":null,\"muted_glyph\":null,\"nonselection_glyph\":{\"id\":\"29c48fa1-33b3-454e-8333-3e9cf40cb974\",\"type\":\"Circle\"},\"selection_glyph\":null,\"view\":{\"id\":\"e10e4b2d-3320-4579-a873-e86613dee5cd\",\"type\":\"CDSView\"}},\"id\":\"ba8f39c6-3c99-4e6c-bbd3-2fcebe1388c1\",\"type\":\"GlyphRenderer\"},{\"attributes\":{\"bottom\":{\"field\":\"bottom\"},\"fill_alpha\":{\"value\":0.2},\"fill_color\":{\"value\":\"#1f77b4\"},\"line_color\":{\"value\":null},\"top\":{\"field\":\"top\"},\"width\":{\"value\":0.8},\"x\":{\"field\":\"x\"}},\"id\":\"c9096473-8ff1-4ecf-83f2-d063b2e5e617\",\"type\":\"VBar\"},{\"attributes\":{\"source\":{\"id\":\"f44dbdc8-a597-4db7-a270-588bf88020f4\",\"type\":\"ColumnDataSource\"}},\"id\":\"dd1a5090-aa4d-4806-9793-fb60869155b1\",\"type\":\"CDSView\"},{\"attributes\":{\"dimension\":1,\"plot\":{\"id\":\"227e24a5-fb0e-479c-8a07-411bf17b012d\",\"subtype\":\"Figure\",\"type\":\"Plot\"},\"ticker\":{\"id\":\"71ba3e9f-8055-4490-9735-6b585e9eaad3\",\"type\":\"BasicTicker\"}},\"id\":\"c7ac794c-bd3d-4c3d-bdc8-10875b6ea966\",\"type\":\"Grid\"},{\"attributes\":{\"source\":{\"id\":\"42e55c48-c775-4356-94e2-13580069aac2\",\"type\":\"ColumnDataSource\"}},\"id\":\"e10e4b2d-3320-4579-a873-e86613dee5cd\",\"type\":\"CDSView\"},{\"attributes\":{\"formatter\":{\"id\":\"f4e1853a-cfa5-499a-abf7-42d8376aa701\",\"type\":\"BasicTickFormatter\"},\"plot\":{\"id\":\"227e24a5-fb0e-479c-8a07-411bf17b012d\",\"subtype\":\"Figure\",\"type\":\"Plot\"},\"ticker\":{\"id\":\"edaf5843-74f5-410a-8b52-40debe09306b\",\"type\":\"BasicTicker\"}},\"id\":\"5328f404-ee4a-4624-a69b-4ca5429569fd\",\"type\":\"LinearAxis\"},{\"attributes\":{\"label\":{\"value\":\"Japanese\"},\"renderers\":[{\"id\":\"ba8f39c6-3c99-4e6c-bbd3-2fcebe1388c1\",\"type\":\"GlyphRenderer\"}]},\"id\":\"d996a941-9f23-46d0-8884-bd3a36368d05\",\"type\":\"LegendItem\"},{\"attributes\":{},\"id\":\"419dbfc8-d03e-4fb2-8d02-edc8260c9287\",\"type\":\"SaveTool\"},{\"attributes\":{\"fill_alpha\":{\"value\":0.1},\"fill_color\":{\"value\":\"#1f77b4\"},\"line_alpha\":{\"value\":0.1},\"line_color\":{\"value\":\"#1f77b4\"},\"size\":{\"units\":\"screen\",\"value\":10},\"x\":{\"field\":\"x\"},\"y\":{\"field\":\"y\"}},\"id\":\"f8b45bd8-1650-42ce-8f7b-706d14aca4b1\",\"type\":\"Triangle\"},{\"attributes\":{\"active_drag\":\"auto\",\"active_inspect\":\"auto\",\"active_scroll\":\"auto\",\"active_tap\":\"auto\",\"tools\":[{\"id\":\"eb5b510d-c2fe-46d9-971c-d64fcd883b58\",\"type\":\"PanTool\"},{\"id\":\"5f3db6f8-cca0-46e6-8aa1-ae40485b568c\",\"type\":\"WheelZoomTool\"},{\"id\":\"885a9200-229b-42aa-bd90-9a448d3ee290\",\"type\":\"BoxZoomTool\"},{\"id\":\"419dbfc8-d03e-4fb2-8d02-edc8260c9287\",\"type\":\"SaveTool\"},{\"id\":\"d997a19d-a6ac-4565-97eb-fd595a6f9228\",\"type\":\"ResetTool\"},{\"id\":\"40ecb050-dc23-473c-80f6-28d6ceff5660\",\"type\":\"HelpTool\"}]},\"id\":\"9e23c047-f1d0-424e-9d77-7408db291b12\",\"type\":\"Toolbar\"}],\"root_ids\":[\"227e24a5-fb0e-479c-8a07-411bf17b012d\"]},\"title\":\"Bokeh Application\",\"version\":\"0.12.13\"}};\n",
       "  var render_items = [{\"docid\":\"f8146413-7fa8-4bd6-aba7-d600141f1072\",\"elementid\":\"561e2176-aabe-4b1b-aa36-1ce6118db694\",\"modelid\":\"227e24a5-fb0e-479c-8a07-411bf17b012d\"}];\n",
       "  root.Bokeh.embed.embed_items_notebook(docs_json, render_items);\n",
       "\n",
       "  }\n",
       "  if (root.Bokeh !== undefined) {\n",
       "    embed_document(root);\n",
       "  } else {\n",
       "    var attempts = 0;\n",
       "    var timer = setInterval(function(root) {\n",
       "      if (root.Bokeh !== undefined) {\n",
       "        embed_document(root);\n",
       "        clearInterval(timer);\n",
       "      }\n",
       "      attempts++;\n",
       "      if (attempts > 100) {\n",
       "        console.log(\"Bokeh: ERROR: Unable to run BokehJS code because BokehJS library is missing\")\n",
       "        clearInterval(timer);\n",
       "      }\n",
       "    }, 10, root)\n",
       "  }\n",
       "})(window);"
      ],
      "application/vnd.bokehjs_exec.v0+json": ""
     },
     "metadata": {
      "application/vnd.bokehjs_exec.v0+json": {
       "id": "227e24a5-fb0e-479c-8a07-411bf17b012d"
      }
     },
     "output_type": "display_data"
    }
   ],
   "source": [
    "from bokeh.plotting import output_file\n",
    "\n",
    "output_file('barplot.html')\n",
    "\n",
    "p = figure(title = \"MPG by Year (Japan and US)\")\n",
    "p.vbar(x = years, bottom = avg-std, top = avg+std, width = 0.8,\n",
    "      fill_alpha = 0.2, line_color = None, legend = \"MPG 1 stddev\")\n",
    "\n",
    "p.circle(x=japanese['yr'], y=japanese['mpg'], size = 10, alpha = 0.5,\n",
    "        color = 'red', legend = 'Japanese')\n",
    "\n",
    "p.triangle(x = american['yr'], y = american['mpg'], size = 10, alpha = 0.3,\n",
    "          color = 'blue', legend = 'American')\n",
    "\n",
    "show(p)"
   ]
  },
  {
   "cell_type": "markdown",
   "metadata": {},
   "source": [
    "### Serving Application\n",
    "\n",
    "Finally, we can use the bokeh server to serve bokeh plots as applications.  For example, we have a weather application in the `weather` directory.  "
   ]
  },
  {
   "cell_type": "code",
   "execution_count": 14,
   "metadata": {},
   "outputs": [
    {
     "name": "stderr",
     "output_type": "stream",
     "text": [
      "2018-08-15 20:15:54,929 Starting Bokeh server version 0.12.13 (running on Tornado 4.5.3)\n",
      "2018-08-15 20:15:54,931 Cannot start Bokeh server, port 5006 is already in use\n"
     ]
    }
   ],
   "source": [
    "%%bash\n",
    "bokeh serve --show weather/"
   ]
  },
  {
   "cell_type": "code",
   "execution_count": null,
   "metadata": {},
   "outputs": [],
   "source": []
  }
 ],
 "metadata": {
  "kernelspec": {
   "display_name": "Python 3",
   "language": "python",
   "name": "python3"
  },
  "language_info": {
   "codemirror_mode": {
    "name": "ipython",
    "version": 3
   },
   "file_extension": ".py",
   "mimetype": "text/x-python",
   "name": "python",
   "nbconvert_exporter": "python",
   "pygments_lexer": "ipython3",
   "version": "3.6.4"
  }
 },
 "nbformat": 4,
 "nbformat_minor": 2
}
